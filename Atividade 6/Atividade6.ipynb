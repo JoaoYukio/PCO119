{
 "cells": [
  {
   "cell_type": "code",
   "execution_count": 1,
   "metadata": {},
   "outputs": [],
   "source": [
    "import control"
   ]
  },
  {
   "cell_type": "code",
   "execution_count": null,
   "metadata": {},
   "outputs": [],
   "source": [
    "import jupyter_dash\n",
    "from jupyter_dash import JupyterDash\n",
    "from dash import Dash, html, dcc, Input, Output\n",
    "import plotly.express as px\n",
    "import pandas as pd"
   ]
  },
  {
   "cell_type": "code",
   "execution_count": 65,
   "metadata": {},
   "outputs": [
    {
     "data": {
      "text/latex": [
       "$$\\frac{z + 0.4}{z^2 - 1.2 z + 0.35}\\quad dt = 2$$"
      ],
      "text/plain": [
       "TransferFunction(array([1. , 0.4]), array([ 1.  , -1.2 ,  0.35]), 2)"
      ]
     },
     "execution_count": 65,
     "metadata": {},
     "output_type": "execute_result"
    }
   ],
   "source": [
    "Gz = control.TransferFunction([1,0.4],[1, -1.2, 0.35], 2)\n",
    "Gz"
   ]
  },
  {
   "cell_type": "code",
   "execution_count": 8,
   "metadata": {},
   "outputs": [
    {
     "data": {
      "text/latex": [
       "$$\\frac{z + 0.4}{z^2 - 0.2 z + 0.75}\\quad dt = 2$$"
      ],
      "text/plain": [
       "TransferFunction(array([1. , 0.4]), array([ 1.  , -0.2 ,  0.75]), 2)"
      ]
     },
     "execution_count": 8,
     "metadata": {},
     "output_type": "execute_result"
    }
   ],
   "source": [
    "control.feedback(Gz)"
   ]
  },
  {
   "cell_type": "code",
   "execution_count": 56,
   "metadata": {},
   "outputs": [],
   "source": [
    "T, yout = control.step_response(Gz)"
   ]
  },
  {
   "cell_type": "code",
   "execution_count": 57,
   "metadata": {},
   "outputs": [],
   "source": [
    "list_of_tuples = list(zip(T, yout))"
   ]
  },
  {
   "cell_type": "code",
   "execution_count": 58,
   "metadata": {},
   "outputs": [],
   "source": [
    "df = pd.DataFrame(list_of_tuples, columns = ['Tempo', 'Valor'])"
   ]
  },
  {
   "cell_type": "code",
   "execution_count": 59,
   "metadata": {},
   "outputs": [
    {
     "data": {
      "text/html": [
       "<div>\n",
       "<style scoped>\n",
       "    .dataframe tbody tr th:only-of-type {\n",
       "        vertical-align: middle;\n",
       "    }\n",
       "\n",
       "    .dataframe tbody tr th {\n",
       "        vertical-align: top;\n",
       "    }\n",
       "\n",
       "    .dataframe thead th {\n",
       "        text-align: right;\n",
       "    }\n",
       "</style>\n",
       "<table border=\"1\" class=\"dataframe\">\n",
       "  <thead>\n",
       "    <tr style=\"text-align: right;\">\n",
       "      <th></th>\n",
       "      <th>Tempo</th>\n",
       "      <th>Valor</th>\n",
       "    </tr>\n",
       "  </thead>\n",
       "  <tbody>\n",
       "    <tr>\n",
       "      <th>0</th>\n",
       "      <td>0.0</td>\n",
       "      <td>0.000000</td>\n",
       "    </tr>\n",
       "    <tr>\n",
       "      <th>1</th>\n",
       "      <td>2.0</td>\n",
       "      <td>1.000000</td>\n",
       "    </tr>\n",
       "    <tr>\n",
       "      <th>2</th>\n",
       "      <td>4.0</td>\n",
       "      <td>2.600000</td>\n",
       "    </tr>\n",
       "    <tr>\n",
       "      <th>3</th>\n",
       "      <td>6.0</td>\n",
       "      <td>4.170000</td>\n",
       "    </tr>\n",
       "    <tr>\n",
       "      <th>4</th>\n",
       "      <td>8.0</td>\n",
       "      <td>5.494000</td>\n",
       "    </tr>\n",
       "    <tr>\n",
       "      <th>5</th>\n",
       "      <td>10.0</td>\n",
       "      <td>6.533300</td>\n",
       "    </tr>\n",
       "    <tr>\n",
       "      <th>6</th>\n",
       "      <td>12.0</td>\n",
       "      <td>7.317060</td>\n",
       "    </tr>\n",
       "    <tr>\n",
       "      <th>7</th>\n",
       "      <td>14.0</td>\n",
       "      <td>7.893817</td>\n",
       "    </tr>\n",
       "    <tr>\n",
       "      <th>8</th>\n",
       "      <td>16.0</td>\n",
       "      <td>8.311609</td>\n",
       "    </tr>\n",
       "    <tr>\n",
       "      <th>9</th>\n",
       "      <td>18.0</td>\n",
       "      <td>8.611095</td>\n",
       "    </tr>\n",
       "    <tr>\n",
       "      <th>10</th>\n",
       "      <td>20.0</td>\n",
       "      <td>8.824251</td>\n",
       "    </tr>\n",
       "    <tr>\n",
       "      <th>11</th>\n",
       "      <td>22.0</td>\n",
       "      <td>8.975218</td>\n",
       "    </tr>\n",
       "    <tr>\n",
       "      <th>12</th>\n",
       "      <td>24.0</td>\n",
       "      <td>9.081774</td>\n",
       "    </tr>\n",
       "    <tr>\n",
       "      <th>13</th>\n",
       "      <td>26.0</td>\n",
       "      <td>9.156802</td>\n",
       "    </tr>\n",
       "    <tr>\n",
       "      <th>14</th>\n",
       "      <td>28.0</td>\n",
       "      <td>9.209542</td>\n",
       "    </tr>\n",
       "    <tr>\n",
       "      <th>15</th>\n",
       "      <td>30.0</td>\n",
       "      <td>9.246569</td>\n",
       "    </tr>\n",
       "    <tr>\n",
       "      <th>16</th>\n",
       "      <td>32.0</td>\n",
       "      <td>9.272544</td>\n",
       "    </tr>\n",
       "    <tr>\n",
       "      <th>17</th>\n",
       "      <td>34.0</td>\n",
       "      <td>9.290753</td>\n",
       "    </tr>\n",
       "    <tr>\n",
       "      <th>18</th>\n",
       "      <td>36.0</td>\n",
       "      <td>9.303513</td>\n",
       "    </tr>\n",
       "    <tr>\n",
       "      <th>19</th>\n",
       "      <td>38.0</td>\n",
       "      <td>9.312453</td>\n",
       "    </tr>\n",
       "  </tbody>\n",
       "</table>\n",
       "</div>"
      ],
      "text/plain": [
       "    Tempo     Valor\n",
       "0     0.0  0.000000\n",
       "1     2.0  1.000000\n",
       "2     4.0  2.600000\n",
       "3     6.0  4.170000\n",
       "4     8.0  5.494000\n",
       "5    10.0  6.533300\n",
       "6    12.0  7.317060\n",
       "7    14.0  7.893817\n",
       "8    16.0  8.311609\n",
       "9    18.0  8.611095\n",
       "10   20.0  8.824251\n",
       "11   22.0  8.975218\n",
       "12   24.0  9.081774\n",
       "13   26.0  9.156802\n",
       "14   28.0  9.209542\n",
       "15   30.0  9.246569\n",
       "16   32.0  9.272544\n",
       "17   34.0  9.290753\n",
       "18   36.0  9.303513\n",
       "19   38.0  9.312453"
      ]
     },
     "execution_count": 59,
     "metadata": {},
     "output_type": "execute_result"
    }
   ],
   "source": [
    "df"
   ]
  },
  {
   "cell_type": "code",
   "execution_count": 60,
   "metadata": {},
   "outputs": [],
   "source": [
    "fig = px.line(df, x = \"Tempo\", y='Valor')"
   ]
  },
  {
   "cell_type": "code",
   "execution_count": 61,
   "metadata": {},
   "outputs": [
    {
     "data": {
      "application/vnd.plotly.v1+json": {
       "config": {
        "plotlyServerURL": "https://plot.ly"
       },
       "data": [
        {
         "hovertemplate": "Tempo=%{x}<br>Valor=%{y}<extra></extra>",
         "legendgroup": "",
         "line": {
          "color": "#636efa",
          "dash": "solid"
         },
         "marker": {
          "symbol": "circle"
         },
         "mode": "lines",
         "name": "",
         "orientation": "v",
         "showlegend": false,
         "type": "scatter",
         "x": [
          0,
          2,
          4,
          6,
          8,
          10,
          12,
          14,
          16,
          18,
          20,
          22,
          24,
          26,
          28,
          30,
          32,
          34,
          36,
          38
         ],
         "xaxis": "x",
         "y": [
          0,
          1,
          2.6,
          4.17,
          5.494,
          6.5333,
          7.31706,
          7.8938169999999985,
          8.311609399999998,
          8.611095329999998,
          8.824251105999998,
          8.975217961699999,
          9.081773666939998,
          9.156802113732999,
          9.2095417530506,
          9.246569363854169,
          9.272543623057292,
          9.290753070319791,
          9.303513416313697,
          9.31245252496451
         ],
         "yaxis": "y"
        }
       ],
       "layout": {
        "legend": {
         "tracegroupgap": 0
        },
        "margin": {
         "t": 60
        },
        "template": {
         "data": {
          "bar": [
           {
            "error_x": {
             "color": "#2a3f5f"
            },
            "error_y": {
             "color": "#2a3f5f"
            },
            "marker": {
             "line": {
              "color": "#E5ECF6",
              "width": 0.5
             },
             "pattern": {
              "fillmode": "overlay",
              "size": 10,
              "solidity": 0.2
             }
            },
            "type": "bar"
           }
          ],
          "barpolar": [
           {
            "marker": {
             "line": {
              "color": "#E5ECF6",
              "width": 0.5
             },
             "pattern": {
              "fillmode": "overlay",
              "size": 10,
              "solidity": 0.2
             }
            },
            "type": "barpolar"
           }
          ],
          "carpet": [
           {
            "aaxis": {
             "endlinecolor": "#2a3f5f",
             "gridcolor": "white",
             "linecolor": "white",
             "minorgridcolor": "white",
             "startlinecolor": "#2a3f5f"
            },
            "baxis": {
             "endlinecolor": "#2a3f5f",
             "gridcolor": "white",
             "linecolor": "white",
             "minorgridcolor": "white",
             "startlinecolor": "#2a3f5f"
            },
            "type": "carpet"
           }
          ],
          "choropleth": [
           {
            "colorbar": {
             "outlinewidth": 0,
             "ticks": ""
            },
            "type": "choropleth"
           }
          ],
          "contour": [
           {
            "colorbar": {
             "outlinewidth": 0,
             "ticks": ""
            },
            "colorscale": [
             [
              0,
              "#0d0887"
             ],
             [
              0.1111111111111111,
              "#46039f"
             ],
             [
              0.2222222222222222,
              "#7201a8"
             ],
             [
              0.3333333333333333,
              "#9c179e"
             ],
             [
              0.4444444444444444,
              "#bd3786"
             ],
             [
              0.5555555555555556,
              "#d8576b"
             ],
             [
              0.6666666666666666,
              "#ed7953"
             ],
             [
              0.7777777777777778,
              "#fb9f3a"
             ],
             [
              0.8888888888888888,
              "#fdca26"
             ],
             [
              1,
              "#f0f921"
             ]
            ],
            "type": "contour"
           }
          ],
          "contourcarpet": [
           {
            "colorbar": {
             "outlinewidth": 0,
             "ticks": ""
            },
            "type": "contourcarpet"
           }
          ],
          "heatmap": [
           {
            "colorbar": {
             "outlinewidth": 0,
             "ticks": ""
            },
            "colorscale": [
             [
              0,
              "#0d0887"
             ],
             [
              0.1111111111111111,
              "#46039f"
             ],
             [
              0.2222222222222222,
              "#7201a8"
             ],
             [
              0.3333333333333333,
              "#9c179e"
             ],
             [
              0.4444444444444444,
              "#bd3786"
             ],
             [
              0.5555555555555556,
              "#d8576b"
             ],
             [
              0.6666666666666666,
              "#ed7953"
             ],
             [
              0.7777777777777778,
              "#fb9f3a"
             ],
             [
              0.8888888888888888,
              "#fdca26"
             ],
             [
              1,
              "#f0f921"
             ]
            ],
            "type": "heatmap"
           }
          ],
          "heatmapgl": [
           {
            "colorbar": {
             "outlinewidth": 0,
             "ticks": ""
            },
            "colorscale": [
             [
              0,
              "#0d0887"
             ],
             [
              0.1111111111111111,
              "#46039f"
             ],
             [
              0.2222222222222222,
              "#7201a8"
             ],
             [
              0.3333333333333333,
              "#9c179e"
             ],
             [
              0.4444444444444444,
              "#bd3786"
             ],
             [
              0.5555555555555556,
              "#d8576b"
             ],
             [
              0.6666666666666666,
              "#ed7953"
             ],
             [
              0.7777777777777778,
              "#fb9f3a"
             ],
             [
              0.8888888888888888,
              "#fdca26"
             ],
             [
              1,
              "#f0f921"
             ]
            ],
            "type": "heatmapgl"
           }
          ],
          "histogram": [
           {
            "marker": {
             "pattern": {
              "fillmode": "overlay",
              "size": 10,
              "solidity": 0.2
             }
            },
            "type": "histogram"
           }
          ],
          "histogram2d": [
           {
            "colorbar": {
             "outlinewidth": 0,
             "ticks": ""
            },
            "colorscale": [
             [
              0,
              "#0d0887"
             ],
             [
              0.1111111111111111,
              "#46039f"
             ],
             [
              0.2222222222222222,
              "#7201a8"
             ],
             [
              0.3333333333333333,
              "#9c179e"
             ],
             [
              0.4444444444444444,
              "#bd3786"
             ],
             [
              0.5555555555555556,
              "#d8576b"
             ],
             [
              0.6666666666666666,
              "#ed7953"
             ],
             [
              0.7777777777777778,
              "#fb9f3a"
             ],
             [
              0.8888888888888888,
              "#fdca26"
             ],
             [
              1,
              "#f0f921"
             ]
            ],
            "type": "histogram2d"
           }
          ],
          "histogram2dcontour": [
           {
            "colorbar": {
             "outlinewidth": 0,
             "ticks": ""
            },
            "colorscale": [
             [
              0,
              "#0d0887"
             ],
             [
              0.1111111111111111,
              "#46039f"
             ],
             [
              0.2222222222222222,
              "#7201a8"
             ],
             [
              0.3333333333333333,
              "#9c179e"
             ],
             [
              0.4444444444444444,
              "#bd3786"
             ],
             [
              0.5555555555555556,
              "#d8576b"
             ],
             [
              0.6666666666666666,
              "#ed7953"
             ],
             [
              0.7777777777777778,
              "#fb9f3a"
             ],
             [
              0.8888888888888888,
              "#fdca26"
             ],
             [
              1,
              "#f0f921"
             ]
            ],
            "type": "histogram2dcontour"
           }
          ],
          "mesh3d": [
           {
            "colorbar": {
             "outlinewidth": 0,
             "ticks": ""
            },
            "type": "mesh3d"
           }
          ],
          "parcoords": [
           {
            "line": {
             "colorbar": {
              "outlinewidth": 0,
              "ticks": ""
             }
            },
            "type": "parcoords"
           }
          ],
          "pie": [
           {
            "automargin": true,
            "type": "pie"
           }
          ],
          "scatter": [
           {
            "fillpattern": {
             "fillmode": "overlay",
             "size": 10,
             "solidity": 0.2
            },
            "type": "scatter"
           }
          ],
          "scatter3d": [
           {
            "line": {
             "colorbar": {
              "outlinewidth": 0,
              "ticks": ""
             }
            },
            "marker": {
             "colorbar": {
              "outlinewidth": 0,
              "ticks": ""
             }
            },
            "type": "scatter3d"
           }
          ],
          "scattercarpet": [
           {
            "marker": {
             "colorbar": {
              "outlinewidth": 0,
              "ticks": ""
             }
            },
            "type": "scattercarpet"
           }
          ],
          "scattergeo": [
           {
            "marker": {
             "colorbar": {
              "outlinewidth": 0,
              "ticks": ""
             }
            },
            "type": "scattergeo"
           }
          ],
          "scattergl": [
           {
            "marker": {
             "colorbar": {
              "outlinewidth": 0,
              "ticks": ""
             }
            },
            "type": "scattergl"
           }
          ],
          "scattermapbox": [
           {
            "marker": {
             "colorbar": {
              "outlinewidth": 0,
              "ticks": ""
             }
            },
            "type": "scattermapbox"
           }
          ],
          "scatterpolar": [
           {
            "marker": {
             "colorbar": {
              "outlinewidth": 0,
              "ticks": ""
             }
            },
            "type": "scatterpolar"
           }
          ],
          "scatterpolargl": [
           {
            "marker": {
             "colorbar": {
              "outlinewidth": 0,
              "ticks": ""
             }
            },
            "type": "scatterpolargl"
           }
          ],
          "scatterternary": [
           {
            "marker": {
             "colorbar": {
              "outlinewidth": 0,
              "ticks": ""
             }
            },
            "type": "scatterternary"
           }
          ],
          "surface": [
           {
            "colorbar": {
             "outlinewidth": 0,
             "ticks": ""
            },
            "colorscale": [
             [
              0,
              "#0d0887"
             ],
             [
              0.1111111111111111,
              "#46039f"
             ],
             [
              0.2222222222222222,
              "#7201a8"
             ],
             [
              0.3333333333333333,
              "#9c179e"
             ],
             [
              0.4444444444444444,
              "#bd3786"
             ],
             [
              0.5555555555555556,
              "#d8576b"
             ],
             [
              0.6666666666666666,
              "#ed7953"
             ],
             [
              0.7777777777777778,
              "#fb9f3a"
             ],
             [
              0.8888888888888888,
              "#fdca26"
             ],
             [
              1,
              "#f0f921"
             ]
            ],
            "type": "surface"
           }
          ],
          "table": [
           {
            "cells": {
             "fill": {
              "color": "#EBF0F8"
             },
             "line": {
              "color": "white"
             }
            },
            "header": {
             "fill": {
              "color": "#C8D4E3"
             },
             "line": {
              "color": "white"
             }
            },
            "type": "table"
           }
          ]
         },
         "layout": {
          "annotationdefaults": {
           "arrowcolor": "#2a3f5f",
           "arrowhead": 0,
           "arrowwidth": 1
          },
          "autotypenumbers": "strict",
          "coloraxis": {
           "colorbar": {
            "outlinewidth": 0,
            "ticks": ""
           }
          },
          "colorscale": {
           "diverging": [
            [
             0,
             "#8e0152"
            ],
            [
             0.1,
             "#c51b7d"
            ],
            [
             0.2,
             "#de77ae"
            ],
            [
             0.3,
             "#f1b6da"
            ],
            [
             0.4,
             "#fde0ef"
            ],
            [
             0.5,
             "#f7f7f7"
            ],
            [
             0.6,
             "#e6f5d0"
            ],
            [
             0.7,
             "#b8e186"
            ],
            [
             0.8,
             "#7fbc41"
            ],
            [
             0.9,
             "#4d9221"
            ],
            [
             1,
             "#276419"
            ]
           ],
           "sequential": [
            [
             0,
             "#0d0887"
            ],
            [
             0.1111111111111111,
             "#46039f"
            ],
            [
             0.2222222222222222,
             "#7201a8"
            ],
            [
             0.3333333333333333,
             "#9c179e"
            ],
            [
             0.4444444444444444,
             "#bd3786"
            ],
            [
             0.5555555555555556,
             "#d8576b"
            ],
            [
             0.6666666666666666,
             "#ed7953"
            ],
            [
             0.7777777777777778,
             "#fb9f3a"
            ],
            [
             0.8888888888888888,
             "#fdca26"
            ],
            [
             1,
             "#f0f921"
            ]
           ],
           "sequentialminus": [
            [
             0,
             "#0d0887"
            ],
            [
             0.1111111111111111,
             "#46039f"
            ],
            [
             0.2222222222222222,
             "#7201a8"
            ],
            [
             0.3333333333333333,
             "#9c179e"
            ],
            [
             0.4444444444444444,
             "#bd3786"
            ],
            [
             0.5555555555555556,
             "#d8576b"
            ],
            [
             0.6666666666666666,
             "#ed7953"
            ],
            [
             0.7777777777777778,
             "#fb9f3a"
            ],
            [
             0.8888888888888888,
             "#fdca26"
            ],
            [
             1,
             "#f0f921"
            ]
           ]
          },
          "colorway": [
           "#636efa",
           "#EF553B",
           "#00cc96",
           "#ab63fa",
           "#FFA15A",
           "#19d3f3",
           "#FF6692",
           "#B6E880",
           "#FF97FF",
           "#FECB52"
          ],
          "font": {
           "color": "#2a3f5f"
          },
          "geo": {
           "bgcolor": "white",
           "lakecolor": "white",
           "landcolor": "#E5ECF6",
           "showlakes": true,
           "showland": true,
           "subunitcolor": "white"
          },
          "hoverlabel": {
           "align": "left"
          },
          "hovermode": "closest",
          "mapbox": {
           "style": "light"
          },
          "paper_bgcolor": "white",
          "plot_bgcolor": "#E5ECF6",
          "polar": {
           "angularaxis": {
            "gridcolor": "white",
            "linecolor": "white",
            "ticks": ""
           },
           "bgcolor": "#E5ECF6",
           "radialaxis": {
            "gridcolor": "white",
            "linecolor": "white",
            "ticks": ""
           }
          },
          "scene": {
           "xaxis": {
            "backgroundcolor": "#E5ECF6",
            "gridcolor": "white",
            "gridwidth": 2,
            "linecolor": "white",
            "showbackground": true,
            "ticks": "",
            "zerolinecolor": "white"
           },
           "yaxis": {
            "backgroundcolor": "#E5ECF6",
            "gridcolor": "white",
            "gridwidth": 2,
            "linecolor": "white",
            "showbackground": true,
            "ticks": "",
            "zerolinecolor": "white"
           },
           "zaxis": {
            "backgroundcolor": "#E5ECF6",
            "gridcolor": "white",
            "gridwidth": 2,
            "linecolor": "white",
            "showbackground": true,
            "ticks": "",
            "zerolinecolor": "white"
           }
          },
          "shapedefaults": {
           "line": {
            "color": "#2a3f5f"
           }
          },
          "ternary": {
           "aaxis": {
            "gridcolor": "white",
            "linecolor": "white",
            "ticks": ""
           },
           "baxis": {
            "gridcolor": "white",
            "linecolor": "white",
            "ticks": ""
           },
           "bgcolor": "#E5ECF6",
           "caxis": {
            "gridcolor": "white",
            "linecolor": "white",
            "ticks": ""
           }
          },
          "title": {
           "x": 0.05
          },
          "xaxis": {
           "automargin": true,
           "gridcolor": "white",
           "linecolor": "white",
           "ticks": "",
           "title": {
            "standoff": 15
           },
           "zerolinecolor": "white",
           "zerolinewidth": 2
          },
          "yaxis": {
           "automargin": true,
           "gridcolor": "white",
           "linecolor": "white",
           "ticks": "",
           "title": {
            "standoff": 15
           },
           "zerolinecolor": "white",
           "zerolinewidth": 2
          }
         }
        },
        "xaxis": {
         "anchor": "y",
         "domain": [
          0,
          1
         ],
         "title": {
          "text": "Tempo"
         }
        },
        "yaxis": {
         "anchor": "x",
         "domain": [
          0,
          1
         ],
         "title": {
          "text": "Valor"
         }
        }
       }
      }
     },
     "metadata": {},
     "output_type": "display_data"
    }
   ],
   "source": [
    "fig"
   ]
  },
  {
   "cell_type": "code",
   "execution_count": 66,
   "metadata": {},
   "outputs": [
    {
     "data": {
      "text/plain": [
       "array([0.7+0.j, 0.5+0.j])"
      ]
     },
     "execution_count": 66,
     "metadata": {},
     "output_type": "execute_result"
    }
   ],
   "source": [
    "control.poles(Gz)"
   ]
  },
  {
   "cell_type": "code",
   "execution_count": 67,
   "metadata": {},
   "outputs": [
    {
     "data": {
      "text/plain": [
       "array([-0.4+0.j])"
      ]
     },
     "execution_count": 67,
     "metadata": {},
     "output_type": "execute_result"
    }
   ],
   "source": [
    "control.zeros(Gz)"
   ]
  },
  {
   "cell_type": "code",
   "execution_count": 68,
   "metadata": {},
   "outputs": [],
   "source": [
    "import math"
   ]
  },
  {
   "cell_type": "code",
   "execution_count": 74,
   "metadata": {},
   "outputs": [],
   "source": [
    "tetap1 = math.pi - math.atan((0.64/0.34))"
   ]
  },
  {
   "cell_type": "code",
   "execution_count": 75,
   "metadata": {},
   "outputs": [],
   "source": [
    "tetap2 = math.pi - math.atan((0.64/(0.5-0.36)))"
   ]
  },
  {
   "cell_type": "code",
   "execution_count": 76,
   "metadata": {},
   "outputs": [],
   "source": [
    "tetaz1 = math.atan((0.64/(0.4+0.36)))"
   ]
  },
  {
   "cell_type": "code",
   "execution_count": 77,
   "metadata": {},
   "outputs": [
    {
     "data": {
      "text/plain": [
       "3.1453914346246927"
      ]
     },
     "execution_count": 77,
     "metadata": {},
     "output_type": "execute_result"
    }
   ],
   "source": [
    "tetap1 + tetap2 -tetaz1"
   ]
  },
  {
   "cell_type": "code",
   "execution_count": 103,
   "metadata": {},
   "outputs": [],
   "source": [
    "import numpy as np"
   ]
  },
  {
   "cell_type": "code",
   "execution_count": 111,
   "metadata": {},
   "outputs": [],
   "source": [
    "x = np.arange(-2,2,0.1)"
   ]
  },
  {
   "cell_type": "code",
   "execution_count": 130,
   "metadata": {},
   "outputs": [],
   "source": [
    "#%matplotlib widget"
   ]
  },
  {
   "cell_type": "code",
   "execution_count": 132,
   "metadata": {},
   "outputs": [],
   "source": [
    "control.rlocus(Gz);"
   ]
  },
  {
   "cell_type": "code",
   "execution_count": 100,
   "metadata": {},
   "outputs": [
    {
     "data": {
      "text/plain": [
       "array([[ 5.00000000e-01+0.j        ,  7.00000000e-01+0.j        ],\n",
       "       [ 5.12171523e-01+0.j        ,  6.85322196e-01+0.j        ],\n",
       "       [ 5.26827471e-01+0.j        ,  6.68159966e-01+0.j        ],\n",
       "       [ 5.46287711e-01+0.j        ,  6.46193445e-01+0.j        ],\n",
       "       [ 5.94987437e-01+0.j        ,  5.94987437e-01+0.j        ],\n",
       "       [ 5.93139874e-01-0.06060686j,  5.93139874e-01+0.06060686j],\n",
       "       [ 5.91292310e-01-0.08567121j,  5.91292310e-01+0.08567121j],\n",
       "       [ 5.89444747e-01-0.10487656j,  5.89444747e-01+0.10487656j],\n",
       "       [ 5.87597184e-01-0.12104463j,  5.87597184e-01+0.12104463j],\n",
       "       [ 5.80206930e-01-0.17086361j,  5.80206930e-01+0.17086361j],\n",
       "       [ 5.72816677e-01-0.20887248j,  5.72816677e-01+0.20887248j],\n",
       "       [ 5.65426423e-01-0.24073185j,  5.65426423e-01+0.24073185j],\n",
       "       [ 5.58036170e-01-0.2686386j ,  5.58036170e-01+0.2686386j ],\n",
       "       [ 5.50645916e-01-0.29372154j,  5.50645916e-01+0.29372154j],\n",
       "       [ 5.43255663e-01-0.31665242j,  5.43255663e-01+0.31665242j],\n",
       "       [ 5.35865409e-01-0.3378697j ,  5.35865409e-01+0.3378697j ],\n",
       "       [ 5.06304395e-01-0.41062433j,  5.06304395e-01+0.41062433j],\n",
       "       [ 4.76743381e-01-0.47044771j,  4.76743381e-01+0.47044771j],\n",
       "       [ 4.45929226e-01-0.52383561j,  4.45929226e-01+0.52383561j],\n",
       "       [ 4.15115072e-01-0.57060268j,  4.15115072e-01+0.57060268j],\n",
       "       [ 3.84300917e-01-0.61226797j,  3.84300917e-01+0.61226797j],\n",
       "       [ 3.53486762e-01-0.64981359j,  3.53486762e-01+0.64981359j],\n",
       "       [ 3.22672608e-01-0.68391834j,  3.22672608e-01+0.68391834j],\n",
       "       [ 2.91858453e-01-0.71507474j,  2.91858453e-01+0.71507474j],\n",
       "       [ 2.61044298e-01-0.74365344j,  2.61044298e-01+0.74365344j],\n",
       "       [ 2.30230144e-01-0.76994153j,  2.30230144e-01+0.76994153j],\n",
       "       [ 1.99415989e-01-0.79416653j,  1.99415989e-01+0.79416653j],\n",
       "       [ 1.68601834e-01-0.81651207j,  1.68601834e-01+0.81651207j],\n",
       "       [ 1.37787679e-01-0.83712867j,  1.37787679e-01+0.83712867j],\n",
       "       [ 1.06973525e-01-0.85614125j,  1.06973525e-01+0.85614125j],\n",
       "       [ 7.61593700e-02-0.87365454j,  7.61593700e-02+0.87365454j],\n",
       "       [ 4.53452153e-02-0.88975707j,  4.53452153e-02+0.88975707j],\n",
       "       [ 1.45310606e-02-0.90452418j,  1.45310606e-02+0.90452418j],\n",
       "       [-1.62830941e-02-0.91802034j, -1.62830941e-02+0.91802034j],\n",
       "       [-4.70972488e-02-0.93030084j, -4.70972488e-02+0.93030084j],\n",
       "       [-7.79114035e-02-0.94141327j, -7.79114035e-02+0.94141327j],\n",
       "       [-1.08725558e-01-0.95139855j, -1.08725558e-01+0.95139855j],\n",
       "       [-1.39539713e-01-0.96029185j, -1.39539713e-01+0.96029185j],\n",
       "       [-1.70353868e-01-0.96812326j, -1.70353868e-01+0.96812326j],\n",
       "       [-2.01168022e-01-0.97491838j, -2.01168022e-01+0.97491838j],\n",
       "       [-2.31982177e-01-0.98069874j, -2.31982177e-01+0.98069874j],\n",
       "       [-2.62796332e-01-0.98548219j, -2.62796332e-01+0.98548219j],\n",
       "       [-2.93610486e-01-0.98928321j, -2.93610486e-01+0.98928321j],\n",
       "       [-3.24424641e-01-0.99211308j, -3.24424641e-01+0.99211308j],\n",
       "       [-3.55238796e-01-0.9939801j , -3.55238796e-01+0.9939801j ],\n",
       "       [-3.86052951e-01-0.99488968j, -3.86052951e-01+0.99488968j],\n",
       "       [-4.16867105e-01-0.99484446j, -4.16867105e-01+0.99484446j],\n",
       "       [-4.47681260e-01-0.9938443j , -4.47681260e-01+0.9938443j ],\n",
       "       [-4.78495415e-01-0.99188632j, -4.78495415e-01+0.99188632j],\n",
       "       [-5.09309569e-01-0.98896482j, -5.09309569e-01+0.98896482j],\n",
       "       [-5.40123724e-01-0.98507124j, -5.40123724e-01+0.98507124j],\n",
       "       [-5.70937879e-01-0.98019398j, -5.70937879e-01+0.98019398j],\n",
       "       [-6.01752034e-01-0.97431828j, -6.01752034e-01+0.97431828j],\n",
       "       [-6.32566188e-01-0.96742595j, -6.32566188e-01+0.96742595j],\n",
       "       [-6.63380343e-01-0.95949507j, -6.63380343e-01+0.95949507j],\n",
       "       [-6.94194498e-01-0.95049966j, -6.94194498e-01+0.95049966j],\n",
       "       [-7.25008652e-01-0.94040915j, -7.25008652e-01+0.94040915j],\n",
       "       [-7.55822807e-01-0.92918789j, -7.55822807e-01+0.92918789j],\n",
       "       [-7.86636962e-01-0.91679434j, -7.86636962e-01+0.91679434j],\n",
       "       [-8.17451116e-01-0.90318025j, -8.17451116e-01+0.90318025j],\n",
       "       [-8.48265271e-01-0.88828951j, -8.48265271e-01+0.88828951j],\n",
       "       [-8.79079426e-01-0.87205671j, -8.79079426e-01+0.87205671j],\n",
       "       [-9.09893581e-01-0.85440537j, -9.09893581e-01+0.85440537j],\n",
       "       [-9.40707735e-01-0.83524556j, -9.40707735e-01+0.83524556j],\n",
       "       [-9.71521890e-01-0.81447083j, -9.71521890e-01+0.81447083j],\n",
       "       [-1.00233604e+00-0.7919541j , -1.00233604e+00+0.7919541j ],\n",
       "       [-1.03315020e+00-0.76754207j, -1.03315020e+00+0.76754207j],\n",
       "       [-1.06396435e+00-0.74104746j, -1.06396435e+00+0.74104746j],\n",
       "       [-1.09477851e+00-0.7122379j , -1.09477851e+00+0.7122379j ],\n",
       "       [-1.12559266e+00-0.68081957j, -1.12559266e+00+0.68081957j],\n",
       "       [-1.15640682e+00-0.64641219j, -1.15640682e+00+0.64641219j],\n",
       "       [-1.18722097e+00-0.60850895j, -1.18722097e+00+0.60850895j],\n",
       "       [-1.21803513e+00-0.56640845j, -1.21803513e+00+0.56640845j],\n",
       "       [-1.24884928e+00-0.51909045j, -1.24884928e+00+0.51909045j],\n",
       "       [-1.27966344e+00-0.46496477j, -1.27966344e+00+0.46496477j],\n",
       "       [-1.31047759e+00-0.40128613j, -1.31047759e+00+0.40128613j],\n",
       "       [-1.34129175e+00-0.32244356j, -1.34129175e+00+0.32244356j],\n",
       "       [-1.34899529e+00-0.29901162j, -1.34899529e+00+0.29901162j],\n",
       "       [-1.35669882e+00-0.27336306j, -1.35669882e+00+0.27336306j],\n",
       "       [-1.36440236e+00-0.24480213j, -1.36440236e+00+0.24480213j],\n",
       "       [-1.37210590e+00-0.21215588j, -1.37210590e+00+0.21215588j],\n",
       "       [-1.37782629e+00-0.18399934j, -1.37782629e+00+0.18399934j],\n",
       "       [-1.38354667e+00-0.15045248j, -1.38354667e+00+0.15045248j],\n",
       "       [-1.38926705e+00-0.10653965j, -1.38926705e+00+0.10653965j],\n",
       "       [-1.39069715e+00-0.09229929j, -1.39069715e+00+0.09229929j],\n",
       "       [-1.39212725e+00-0.07538919j, -1.39212725e+00+0.07538919j],\n",
       "       [-1.39355734e+00-0.05332738j, -1.39355734e+00+0.05332738j],\n",
       "       [-1.39498747e+00+0.j        , -1.39498741e+00+0.j        ],\n",
       "       [-1.45244370e+00+0.j        , -1.34066789e+00+0.j        ],\n",
       "       [-1.47719271e+00+0.j        , -1.31905561e+00+0.j        ],\n",
       "       [-1.49656941e+00+0.j        , -1.30281562e+00+0.j        ],\n",
       "       [-1.51316865e+00+0.j        , -1.28935311e+00+0.j        ],\n",
       "       [-1.56604429e+00+0.j        , -1.24902435e+00+0.j        ],\n",
       "       [-1.60824589e+00+0.j        , -1.21936964e+00+0.j        ],\n",
       "       [-1.64494933e+00+0.j        , -1.19521309e+00+0.j        ],\n",
       "       [-1.67815590e+00+0.j        , -1.17455340e+00+0.j        ],\n",
       "       [-1.70889025e+00+0.j        , -1.15636594e+00+0.j        ],\n",
       "       [-1.73776003e+00+0.j        , -1.14004304e+00+0.j        ],\n",
       "       [-1.76516050e+00+0.j        , -1.12518945e+00+0.j        ],\n",
       "       [-1.86457218e+00+0.j        , -1.07596532e+00+0.j        ],\n",
       "       [-1.95342261e+00+0.j        , -1.03730243e+00+0.j        ],\n",
       "       [-1.97925376e+00+0.j        , -1.02687835e+00+0.j        ],\n",
       "       [-2.00453989e+00+0.j        , -1.01699931e+00+0.j        ],\n",
       "       [-2.02933726e+00+0.j        , -1.00760901e+00+0.j        ],\n",
       "       [-2.05369341e+00+0.j        , -9.98659943e-01+0.j        ],\n",
       "       [-2.14743793e+00+0.j        , -9.66543728e-01+0.j        ],\n",
       "       [-2.23655816e+00+0.j        , -9.39051810e-01+0.j        ],\n",
       "       [-2.32220467e+00+0.j        , -9.15033604e-01+0.j        ],\n",
       "       [-2.40513400e+00+0.j        , -8.93732589e-01+0.j        ],\n",
       "       [-2.48587362e+00+0.j        , -8.74621276e-01+0.j        ],\n",
       "       [-2.56480778e+00+0.j        , -8.57315431e-01+0.j        ],\n",
       "       [-2.64222599e+00+0.j        , -8.41525521e-01+0.j        ],\n",
       "       [-2.71835243e+00+0.j        , -8.27027396e-01+0.j        ],\n",
       "       [-2.79336449e+00+0.j        , -8.13643639e-01+0.j        ],\n",
       "       [-2.86740523e+00+0.j        , -8.01231216e-01+0.j        ],\n",
       "       [-2.94059176e+00+0.j        , -7.89672995e-01+0.j        ],\n",
       "       [-3.01302129e+00+0.j        , -7.78871769e-01+0.j        ],\n",
       "       [-3.08477545e+00+0.j        , -7.68745923e-01+0.j        ],\n",
       "       [-3.15592345e+00+0.j        , -7.59226234e-01+0.j        ],\n",
       "       [-3.22652453e+00+0.j        , -7.50253461e-01+0.j        ],\n",
       "       [-3.29662980e+00+0.j        , -7.41776502e-01+0.j        ],\n",
       "       [-3.36628366e+00+0.j        , -7.33750954e-01+0.j        ],\n",
       "       [-3.43552493e+00+0.j        , -7.26137990e-01+0.j        ],\n",
       "       [-3.50438777e+00+0.j        , -7.18903460e-01+0.j        ],\n",
       "       [-3.57290237e+00+0.j        , -7.12017164e-01+0.j        ],\n",
       "       [-3.64109558e+00+0.j        , -7.05452270e-01+0.j        ],\n",
       "       [-3.70899133e+00+0.j        , -6.99184828e-01+0.j        ],\n",
       "       [-3.77661109e+00+0.j        , -6.93193374e-01+0.j        ],\n",
       "       [-3.84397417e+00+0.j        , -6.87458602e-01+0.j        ],\n",
       "       [-3.91109801e+00+0.j        , -6.81963078e-01+0.j        ],\n",
       "       [-3.97799838e+00+0.j        , -6.76691014e-01+0.j        ],\n",
       "       [-4.04468964e+00+0.j        , -6.71628067e-01+0.j        ],\n",
       "       [-4.11118485e+00+0.j        , -6.66761167e-01+0.j        ],\n",
       "       [-4.17749595e+00+0.j        , -6.62078375e-01+0.j        ],\n",
       "       [-4.24363387e+00+0.j        , -6.57568757e-01+0.j        ],\n",
       "       [-4.30960867e+00+0.j        , -6.53222275e-01+0.j        ],\n",
       "       [-4.37542956e+00+0.j        , -6.49029692e-01+0.j        ],\n",
       "       [-4.44110507e+00+0.j        , -6.44982495e-01+0.j        ],\n",
       "       [-4.50664305e+00+0.j        , -6.41072815e-01+0.j        ],\n",
       "       [-4.57205081e+00+0.j        , -6.37293371e-01+0.j        ],\n",
       "       [-4.63733508e+00+0.j        , -6.33637412e-01+0.j        ],\n",
       "       [-4.70250213e+00+0.j        , -6.30098666e-01+0.j        ],\n",
       "       [-4.76755781e+00+0.j        , -6.26671299e-01+0.j        ],\n",
       "       [-4.83250754e+00+0.j        , -6.23349874e-01+0.j        ],\n",
       "       [-4.89735641e+00+0.j        , -6.20129318e-01+0.j        ],\n",
       "       [-4.96210914e+00+0.j        , -6.17004892e-01+0.j        ],\n",
       "       [-5.02677019e+00+0.j        , -6.13972158e-01+0.j        ],\n",
       "       [-5.09134369e+00+0.j        , -6.11026960e-01+0.j        ],\n",
       "       [-5.15583356e+00+0.j        , -6.08165401e-01+0.j        ],\n",
       "       [-5.22024346e+00+0.j        , -6.05383817e-01+0.j        ],\n",
       "       [-5.28457682e+00+0.j        , -6.02678766e-01+0.j        ],\n",
       "       [-5.34883689e+00+0.j        , -6.00047006e-01+0.j        ],\n",
       "       [-5.41302672e+00+0.j        , -5.97485482e-01+0.j        ],\n",
       "       [-5.47714920e+00+0.j        , -5.94991315e-01+0.j        ],\n",
       "       [-5.54120704e+00+0.j        , -5.92561784e-01+0.j        ],\n",
       "       [-5.60520281e+00+0.j        , -5.90194318e-01+0.j        ],\n",
       "       [-5.66913895e+00+0.j        , -5.87886486e-01+0.j        ],\n",
       "       [-5.73301776e+00+0.j        , -5.85635984e-01+0.j        ],\n",
       "       [-5.79684143e+00+0.j        , -5.83440632e-01+0.j        ],\n",
       "       [-5.86061201e+00+0.j        , -5.81298360e-01+0.j        ],\n",
       "       [-5.92433147e+00+0.j        , -5.79207205e-01+0.j        ],\n",
       "       [-5.98800168e+00+0.j        , -5.77165301e-01+0.j        ],\n",
       "       [-6.05162442e+00+0.j        , -5.75170876e-01+0.j        ],\n",
       "       [-6.11520136e+00+0.j        , -5.73222243e-01+0.j        ],\n",
       "       [-6.17873412e+00+0.j        , -5.71317797e-01+0.j        ],\n",
       "       [-6.24222421e+00+0.j        , -5.69456009e-01+0.j        ],\n",
       "       [-6.30567311e+00+0.j        , -5.67635421e-01+0.j        ],\n",
       "       [-6.36908220e+00+0.j        , -5.65854643e-01+0.j        ],\n",
       "       [-6.43245280e+00+0.j        , -5.64112349e-01+0.j        ],\n",
       "       [-6.49578619e+00+0.j        , -5.62407271e-01+0.j        ],\n",
       "       [-6.55908357e+00+0.j        , -5.60738199e-01+0.j        ],\n",
       "       [-6.62234610e+00+0.j        , -5.59103975e-01+0.j        ],\n",
       "       [-6.68557490e+00+0.j        , -5.57503493e-01+0.j        ],\n",
       "       [-6.74877101e+00+0.j        , -5.55935692e-01+0.j        ],\n",
       "       [-6.81193545e+00+0.j        , -5.54399558e-01+0.j        ],\n",
       "       [-6.87506920e+00+0.j        , -5.52894119e-01+0.j        ],\n",
       "       [-6.93817318e+00+0.j        , -5.51418442e-01+0.j        ],\n",
       "       [-7.00124830e+00+0.j        , -5.49971635e-01+0.j        ],\n",
       "       [-7.06429541e+00+0.j        , -5.48552839e-01+0.j        ],\n",
       "       [-7.12731532e+00+0.j        , -5.47161230e-01+0.j        ],\n",
       "       [-7.19030885e+00+0.j        , -5.45796019e-01+0.j        ],\n",
       "       [-7.25327673e+00+0.j        , -5.44456446e-01+0.j        ],\n",
       "       [-7.31621970e+00+0.j        , -5.43141780e-01+0.j        ],\n",
       "       [-7.37913847e+00+0.j        , -5.41851319e-01+0.j        ],\n",
       "       [-7.44203371e+00+0.j        , -5.40584388e-01+0.j        ],\n",
       "       [-7.50490608e+00+0.j        , -5.39340336e-01+0.j        ],\n",
       "       [-7.56775618e+00+0.j        , -5.38118537e-01+0.j        ],\n",
       "       [-7.63058464e+00+0.j        , -5.36918389e-01+0.j        ],\n",
       "       [-7.69339203e+00+0.j        , -5.35739310e-01+0.j        ],\n",
       "       [-7.75617891e+00+0.j        , -5.34580740e-01+0.j        ],\n",
       "       [-7.81894582e+00+0.j        , -5.33442139e-01+0.j        ],\n",
       "       [-7.88169328e+00+0.j        , -5.32322987e-01+0.j        ],\n",
       "       [-7.94442180e+00+0.j        , -5.31222780e-01+0.j        ],\n",
       "       [-8.00713185e+00+0.j        , -5.30141033e-01+0.j        ],\n",
       "       [-8.06982392e+00+0.j        , -5.29077279e-01+0.j        ],\n",
       "       [-8.13249844e+00+0.j        , -5.28031064e-01+0.j        ],\n",
       "       [-8.19515586e+00+0.j        , -5.27001951e-01+0.j        ],\n",
       "       [-8.25779661e+00+0.j        , -5.25989517e-01+0.j        ],\n",
       "       [-8.32042108e+00+0.j        , -5.24993355e-01+0.j        ],\n",
       "       [-8.38302968e+00+0.j        , -5.24013068e-01+0.j        ],\n",
       "       [-8.44562278e+00+0.j        , -5.23048274e-01+0.j        ],\n",
       "       [-8.50820076e+00+0.j        , -5.22098605e-01+0.j        ],\n",
       "       [-8.57076397e+00+0.j        , -5.21163701e-01+0.j        ],\n",
       "       [-8.63331277e+00+0.j        , -5.20243215e-01+0.j        ],\n",
       "       [-8.69584748e+00+0.j        , -5.19336813e-01+0.j        ],\n",
       "       [-8.75836843e+00+0.j        , -5.18444169e-01+0.j        ],\n",
       "       [-8.82087594e+00+0.j        , -5.17564967e-01+0.j        ],\n",
       "       [-8.88337032e+00+0.j        , -5.16698902e-01+0.j        ],\n",
       "       [-8.94585185e+00+0.j        , -5.15845678e-01+0.j        ],\n",
       "       [-9.00832083e+00+0.j        , -5.15005007e-01+0.j        ],\n",
       "       [-9.07077754e+00+0.j        , -5.14176612e-01+0.j        ],\n",
       "       [-9.13322224e+00+0.j        , -5.13360221e-01+0.j        ],\n",
       "       [-9.19565519e+00+0.j        , -5.12555572e-01+0.j        ],\n",
       "       [-9.25807666e+00+0.j        , -5.11762410e-01+0.j        ],\n",
       "       [-9.32048690e+00+0.j        , -5.10980489e-01+0.j        ],\n",
       "       [-9.38288613e+00+0.j        , -5.10209568e-01+0.j        ],\n",
       "       [-9.44527459e+00+0.j        , -5.09449414e-01+0.j        ],\n",
       "       [-9.50765251e+00+0.j        , -5.08699799e-01+0.j        ],\n",
       "       [-9.57002012e+00+0.j        , -5.07960505e-01+0.j        ],\n",
       "       [-9.63237762e+00+0.j        , -5.07231316e-01+0.j        ],\n",
       "       [-9.69472522e+00+0.j        , -5.06512025e-01+0.j        ],\n",
       "       [-9.75706312e+00+0.j        , -5.05802428e-01+0.j        ],\n",
       "       [-9.81939153e+00+0.j        , -5.05102330e-01+0.j        ],\n",
       "       [-9.88171063e+00+0.j        , -5.04411539e-01+0.j        ],\n",
       "       [-9.94402061e+00+0.j        , -5.03729868e-01+0.j        ],\n",
       "       [-1.00063217e+01+0.j        , -5.03057136e-01+0.j        ],\n",
       "       [-1.00686139e+01+0.j        , -5.02393167e-01+0.j        ],\n",
       "       [-1.01308976e+01+0.j        , -5.01737788e-01+0.j        ],\n",
       "       [-1.01931729e+01+0.j        , -5.01090833e-01+0.j        ],\n",
       "       [-1.02554399e+01+0.j        , -5.00452137e-01+0.j        ],\n",
       "       [-1.03176988e+01+0.j        , -4.99821543e-01+0.j        ],\n",
       "       [-1.03799497e+01+0.j        , -4.99198896e-01+0.j        ],\n",
       "       [-1.19183152e+02+0.j        , -4.08334515e-01+0.j        ],\n",
       "       [-1.20631404e+03+0.j        , -4.00820954e-01+0.j        ],\n",
       "       [-1.20775486e+04+0.j        , -4.00081973e-01+0.j        ]])"
      ]
     },
     "execution_count": 100,
     "metadata": {},
     "output_type": "execute_result"
    }
   ],
   "source": [
    "out[0]"
   ]
  }
 ],
 "metadata": {
  "kernelspec": {
   "display_name": "Python 3.10.6 64-bit",
   "language": "python",
   "name": "python3"
  },
  "language_info": {
   "codemirror_mode": {
    "name": "ipython",
    "version": 3
   },
   "file_extension": ".py",
   "mimetype": "text/x-python",
   "name": "python",
   "nbconvert_exporter": "python",
   "pygments_lexer": "ipython3",
   "version": "3.10.6"
  },
  "orig_nbformat": 4,
  "vscode": {
   "interpreter": {
    "hash": "31f2aee4e71d21fbe5cf8b01ff0e069b9275f58929596ceb00d14d90e3e16cd6"
   }
  }
 },
 "nbformat": 4,
 "nbformat_minor": 2
}

{
 "cells": [
  {
   "cell_type": "code",
   "execution_count": 124,
   "metadata": {},
   "outputs": [],
   "source": [
    "import control"
   ]
  },
  {
   "cell_type": "code",
   "execution_count": 125,
   "metadata": {},
   "outputs": [],
   "source": [
    "import jupyter_dash\n",
    "from jupyter_dash import JupyterDash\n",
    "from dash import Dash, html, dcc, Input, Output\n",
    "import plotly.express as px\n",
    "import pandas as pd"
   ]
  },
  {
   "cell_type": "code",
   "execution_count": 126,
   "metadata": {},
   "outputs": [
    {
     "data": {
      "text/latex": [
       "$$\\frac{z + 0.4}{z^2 - 1.2 z + 0.35}\\quad dt = 2$$"
      ],
      "text/plain": [
       "TransferFunction(array([1. , 0.4]), array([ 1.  , -1.2 ,  0.35]), 2)"
      ]
     },
     "execution_count": 126,
     "metadata": {},
     "output_type": "execute_result"
    }
   ],
   "source": [
    "Gz = control.TransferFunction([1,0.4],[1, -1.2, 0.35], 2)\n",
    "Gz"
   ]
  },
  {
   "cell_type": "code",
   "execution_count": 127,
   "metadata": {},
   "outputs": [
    {
     "data": {
      "text/latex": [
       "$$\\frac{z + 0.4}{z^2 - 0.2 z + 0.75}\\quad dt = 2$$"
      ],
      "text/plain": [
       "TransferFunction(array([1. , 0.4]), array([ 1.  , -0.2 ,  0.75]), 2)"
      ]
     },
     "execution_count": 127,
     "metadata": {},
     "output_type": "execute_result"
    }
   ],
   "source": [
    "control.feedback(Gz)"
   ]
  },
  {
   "cell_type": "code",
   "execution_count": 128,
   "metadata": {},
   "outputs": [],
   "source": [
    "T, yout = control.step_response(Gz)"
   ]
  },
  {
   "cell_type": "code",
   "execution_count": 129,
   "metadata": {},
   "outputs": [],
   "source": [
    "list_of_tuples = list(zip(T, yout))"
   ]
  },
  {
   "cell_type": "code",
   "execution_count": 130,
   "metadata": {},
   "outputs": [],
   "source": [
    "df = pd.DataFrame(list_of_tuples, columns = ['Tempo', 'Valor'])"
   ]
  },
  {
   "cell_type": "code",
   "execution_count": 131,
   "metadata": {},
   "outputs": [
    {
     "data": {
      "text/html": [
       "<div>\n",
       "<style scoped>\n",
       "    .dataframe tbody tr th:only-of-type {\n",
       "        vertical-align: middle;\n",
       "    }\n",
       "\n",
       "    .dataframe tbody tr th {\n",
       "        vertical-align: top;\n",
       "    }\n",
       "\n",
       "    .dataframe thead th {\n",
       "        text-align: right;\n",
       "    }\n",
       "</style>\n",
       "<table border=\"1\" class=\"dataframe\">\n",
       "  <thead>\n",
       "    <tr style=\"text-align: right;\">\n",
       "      <th></th>\n",
       "      <th>Tempo</th>\n",
       "      <th>Valor</th>\n",
       "    </tr>\n",
       "  </thead>\n",
       "  <tbody>\n",
       "    <tr>\n",
       "      <th>0</th>\n",
       "      <td>0.0</td>\n",
       "      <td>0.000000</td>\n",
       "    </tr>\n",
       "    <tr>\n",
       "      <th>1</th>\n",
       "      <td>2.0</td>\n",
       "      <td>1.000000</td>\n",
       "    </tr>\n",
       "    <tr>\n",
       "      <th>2</th>\n",
       "      <td>4.0</td>\n",
       "      <td>2.600000</td>\n",
       "    </tr>\n",
       "    <tr>\n",
       "      <th>3</th>\n",
       "      <td>6.0</td>\n",
       "      <td>4.170000</td>\n",
       "    </tr>\n",
       "    <tr>\n",
       "      <th>4</th>\n",
       "      <td>8.0</td>\n",
       "      <td>5.494000</td>\n",
       "    </tr>\n",
       "    <tr>\n",
       "      <th>5</th>\n",
       "      <td>10.0</td>\n",
       "      <td>6.533300</td>\n",
       "    </tr>\n",
       "    <tr>\n",
       "      <th>6</th>\n",
       "      <td>12.0</td>\n",
       "      <td>7.317060</td>\n",
       "    </tr>\n",
       "    <tr>\n",
       "      <th>7</th>\n",
       "      <td>14.0</td>\n",
       "      <td>7.893817</td>\n",
       "    </tr>\n",
       "    <tr>\n",
       "      <th>8</th>\n",
       "      <td>16.0</td>\n",
       "      <td>8.311609</td>\n",
       "    </tr>\n",
       "    <tr>\n",
       "      <th>9</th>\n",
       "      <td>18.0</td>\n",
       "      <td>8.611095</td>\n",
       "    </tr>\n",
       "    <tr>\n",
       "      <th>10</th>\n",
       "      <td>20.0</td>\n",
       "      <td>8.824251</td>\n",
       "    </tr>\n",
       "    <tr>\n",
       "      <th>11</th>\n",
       "      <td>22.0</td>\n",
       "      <td>8.975218</td>\n",
       "    </tr>\n",
       "    <tr>\n",
       "      <th>12</th>\n",
       "      <td>24.0</td>\n",
       "      <td>9.081774</td>\n",
       "    </tr>\n",
       "    <tr>\n",
       "      <th>13</th>\n",
       "      <td>26.0</td>\n",
       "      <td>9.156802</td>\n",
       "    </tr>\n",
       "    <tr>\n",
       "      <th>14</th>\n",
       "      <td>28.0</td>\n",
       "      <td>9.209542</td>\n",
       "    </tr>\n",
       "    <tr>\n",
       "      <th>15</th>\n",
       "      <td>30.0</td>\n",
       "      <td>9.246569</td>\n",
       "    </tr>\n",
       "    <tr>\n",
       "      <th>16</th>\n",
       "      <td>32.0</td>\n",
       "      <td>9.272544</td>\n",
       "    </tr>\n",
       "    <tr>\n",
       "      <th>17</th>\n",
       "      <td>34.0</td>\n",
       "      <td>9.290753</td>\n",
       "    </tr>\n",
       "    <tr>\n",
       "      <th>18</th>\n",
       "      <td>36.0</td>\n",
       "      <td>9.303513</td>\n",
       "    </tr>\n",
       "    <tr>\n",
       "      <th>19</th>\n",
       "      <td>38.0</td>\n",
       "      <td>9.312453</td>\n",
       "    </tr>\n",
       "  </tbody>\n",
       "</table>\n",
       "</div>"
      ],
      "text/plain": [
       "    Tempo     Valor\n",
       "0     0.0  0.000000\n",
       "1     2.0  1.000000\n",
       "2     4.0  2.600000\n",
       "3     6.0  4.170000\n",
       "4     8.0  5.494000\n",
       "5    10.0  6.533300\n",
       "6    12.0  7.317060\n",
       "7    14.0  7.893817\n",
       "8    16.0  8.311609\n",
       "9    18.0  8.611095\n",
       "10   20.0  8.824251\n",
       "11   22.0  8.975218\n",
       "12   24.0  9.081774\n",
       "13   26.0  9.156802\n",
       "14   28.0  9.209542\n",
       "15   30.0  9.246569\n",
       "16   32.0  9.272544\n",
       "17   34.0  9.290753\n",
       "18   36.0  9.303513\n",
       "19   38.0  9.312453"
      ]
     },
     "execution_count": 131,
     "metadata": {},
     "output_type": "execute_result"
    }
   ],
   "source": [
    "df"
   ]
  },
  {
   "cell_type": "code",
   "execution_count": 132,
   "metadata": {},
   "outputs": [],
   "source": [
    "fig = px.line(df, x = \"Tempo\", y='Valor')"
   ]
  },
  {
   "cell_type": "code",
   "execution_count": 133,
   "metadata": {},
   "outputs": [
    {
     "data": {
      "application/vnd.plotly.v1+json": {
       "config": {
        "plotlyServerURL": "https://plot.ly"
       },
       "data": [
        {
         "hovertemplate": "Tempo=%{x}<br>Valor=%{y}<extra></extra>",
         "legendgroup": "",
         "line": {
          "color": "#636efa",
          "dash": "solid"
         },
         "marker": {
          "symbol": "circle"
         },
         "mode": "lines",
         "name": "",
         "orientation": "v",
         "showlegend": false,
         "type": "scatter",
         "x": [
          0,
          2,
          4,
          6,
          8,
          10,
          12,
          14,
          16,
          18,
          20,
          22,
          24,
          26,
          28,
          30,
          32,
          34,
          36,
          38
         ],
         "xaxis": "x",
         "y": [
          0,
          1,
          2.6,
          4.17,
          5.494,
          6.5333,
          7.31706,
          7.8938169999999985,
          8.311609399999998,
          8.611095329999998,
          8.824251105999998,
          8.975217961699999,
          9.081773666939998,
          9.156802113732999,
          9.2095417530506,
          9.246569363854169,
          9.272543623057292,
          9.290753070319791,
          9.303513416313697,
          9.31245252496451
         ],
         "yaxis": "y"
        }
       ],
       "layout": {
        "legend": {
         "tracegroupgap": 0
        },
        "margin": {
         "t": 60
        },
        "template": {
         "data": {
          "bar": [
           {
            "error_x": {
             "color": "#2a3f5f"
            },
            "error_y": {
             "color": "#2a3f5f"
            },
            "marker": {
             "line": {
              "color": "#E5ECF6",
              "width": 0.5
             },
             "pattern": {
              "fillmode": "overlay",
              "size": 10,
              "solidity": 0.2
             }
            },
            "type": "bar"
           }
          ],
          "barpolar": [
           {
            "marker": {
             "line": {
              "color": "#E5ECF6",
              "width": 0.5
             },
             "pattern": {
              "fillmode": "overlay",
              "size": 10,
              "solidity": 0.2
             }
            },
            "type": "barpolar"
           }
          ],
          "carpet": [
           {
            "aaxis": {
             "endlinecolor": "#2a3f5f",
             "gridcolor": "white",
             "linecolor": "white",
             "minorgridcolor": "white",
             "startlinecolor": "#2a3f5f"
            },
            "baxis": {
             "endlinecolor": "#2a3f5f",
             "gridcolor": "white",
             "linecolor": "white",
             "minorgridcolor": "white",
             "startlinecolor": "#2a3f5f"
            },
            "type": "carpet"
           }
          ],
          "choropleth": [
           {
            "colorbar": {
             "outlinewidth": 0,
             "ticks": ""
            },
            "type": "choropleth"
           }
          ],
          "contour": [
           {
            "colorbar": {
             "outlinewidth": 0,
             "ticks": ""
            },
            "colorscale": [
             [
              0,
              "#0d0887"
             ],
             [
              0.1111111111111111,
              "#46039f"
             ],
             [
              0.2222222222222222,
              "#7201a8"
             ],
             [
              0.3333333333333333,
              "#9c179e"
             ],
             [
              0.4444444444444444,
              "#bd3786"
             ],
             [
              0.5555555555555556,
              "#d8576b"
             ],
             [
              0.6666666666666666,
              "#ed7953"
             ],
             [
              0.7777777777777778,
              "#fb9f3a"
             ],
             [
              0.8888888888888888,
              "#fdca26"
             ],
             [
              1,
              "#f0f921"
             ]
            ],
            "type": "contour"
           }
          ],
          "contourcarpet": [
           {
            "colorbar": {
             "outlinewidth": 0,
             "ticks": ""
            },
            "type": "contourcarpet"
           }
          ],
          "heatmap": [
           {
            "colorbar": {
             "outlinewidth": 0,
             "ticks": ""
            },
            "colorscale": [
             [
              0,
              "#0d0887"
             ],
             [
              0.1111111111111111,
              "#46039f"
             ],
             [
              0.2222222222222222,
              "#7201a8"
             ],
             [
              0.3333333333333333,
              "#9c179e"
             ],
             [
              0.4444444444444444,
              "#bd3786"
             ],
             [
              0.5555555555555556,
              "#d8576b"
             ],
             [
              0.6666666666666666,
              "#ed7953"
             ],
             [
              0.7777777777777778,
              "#fb9f3a"
             ],
             [
              0.8888888888888888,
              "#fdca26"
             ],
             [
              1,
              "#f0f921"
             ]
            ],
            "type": "heatmap"
           }
          ],
          "heatmapgl": [
           {
            "colorbar": {
             "outlinewidth": 0,
             "ticks": ""
            },
            "colorscale": [
             [
              0,
              "#0d0887"
             ],
             [
              0.1111111111111111,
              "#46039f"
             ],
             [
              0.2222222222222222,
              "#7201a8"
             ],
             [
              0.3333333333333333,
              "#9c179e"
             ],
             [
              0.4444444444444444,
              "#bd3786"
             ],
             [
              0.5555555555555556,
              "#d8576b"
             ],
             [
              0.6666666666666666,
              "#ed7953"
             ],
             [
              0.7777777777777778,
              "#fb9f3a"
             ],
             [
              0.8888888888888888,
              "#fdca26"
             ],
             [
              1,
              "#f0f921"
             ]
            ],
            "type": "heatmapgl"
           }
          ],
          "histogram": [
           {
            "marker": {
             "pattern": {
              "fillmode": "overlay",
              "size": 10,
              "solidity": 0.2
             }
            },
            "type": "histogram"
           }
          ],
          "histogram2d": [
           {
            "colorbar": {
             "outlinewidth": 0,
             "ticks": ""
            },
            "colorscale": [
             [
              0,
              "#0d0887"
             ],
             [
              0.1111111111111111,
              "#46039f"
             ],
             [
              0.2222222222222222,
              "#7201a8"
             ],
             [
              0.3333333333333333,
              "#9c179e"
             ],
             [
              0.4444444444444444,
              "#bd3786"
             ],
             [
              0.5555555555555556,
              "#d8576b"
             ],
             [
              0.6666666666666666,
              "#ed7953"
             ],
             [
              0.7777777777777778,
              "#fb9f3a"
             ],
             [
              0.8888888888888888,
              "#fdca26"
             ],
             [
              1,
              "#f0f921"
             ]
            ],
            "type": "histogram2d"
           }
          ],
          "histogram2dcontour": [
           {
            "colorbar": {
             "outlinewidth": 0,
             "ticks": ""
            },
            "colorscale": [
             [
              0,
              "#0d0887"
             ],
             [
              0.1111111111111111,
              "#46039f"
             ],
             [
              0.2222222222222222,
              "#7201a8"
             ],
             [
              0.3333333333333333,
              "#9c179e"
             ],
             [
              0.4444444444444444,
              "#bd3786"
             ],
             [
              0.5555555555555556,
              "#d8576b"
             ],
             [
              0.6666666666666666,
              "#ed7953"
             ],
             [
              0.7777777777777778,
              "#fb9f3a"
             ],
             [
              0.8888888888888888,
              "#fdca26"
             ],
             [
              1,
              "#f0f921"
             ]
            ],
            "type": "histogram2dcontour"
           }
          ],
          "mesh3d": [
           {
            "colorbar": {
             "outlinewidth": 0,
             "ticks": ""
            },
            "type": "mesh3d"
           }
          ],
          "parcoords": [
           {
            "line": {
             "colorbar": {
              "outlinewidth": 0,
              "ticks": ""
             }
            },
            "type": "parcoords"
           }
          ],
          "pie": [
           {
            "automargin": true,
            "type": "pie"
           }
          ],
          "scatter": [
           {
            "fillpattern": {
             "fillmode": "overlay",
             "size": 10,
             "solidity": 0.2
            },
            "type": "scatter"
           }
          ],
          "scatter3d": [
           {
            "line": {
             "colorbar": {
              "outlinewidth": 0,
              "ticks": ""
             }
            },
            "marker": {
             "colorbar": {
              "outlinewidth": 0,
              "ticks": ""
             }
            },
            "type": "scatter3d"
           }
          ],
          "scattercarpet": [
           {
            "marker": {
             "colorbar": {
              "outlinewidth": 0,
              "ticks": ""
             }
            },
            "type": "scattercarpet"
           }
          ],
          "scattergeo": [
           {
            "marker": {
             "colorbar": {
              "outlinewidth": 0,
              "ticks": ""
             }
            },
            "type": "scattergeo"
           }
          ],
          "scattergl": [
           {
            "marker": {
             "colorbar": {
              "outlinewidth": 0,
              "ticks": ""
             }
            },
            "type": "scattergl"
           }
          ],
          "scattermapbox": [
           {
            "marker": {
             "colorbar": {
              "outlinewidth": 0,
              "ticks": ""
             }
            },
            "type": "scattermapbox"
           }
          ],
          "scatterpolar": [
           {
            "marker": {
             "colorbar": {
              "outlinewidth": 0,
              "ticks": ""
             }
            },
            "type": "scatterpolar"
           }
          ],
          "scatterpolargl": [
           {
            "marker": {
             "colorbar": {
              "outlinewidth": 0,
              "ticks": ""
             }
            },
            "type": "scatterpolargl"
           }
          ],
          "scatterternary": [
           {
            "marker": {
             "colorbar": {
              "outlinewidth": 0,
              "ticks": ""
             }
            },
            "type": "scatterternary"
           }
          ],
          "surface": [
           {
            "colorbar": {
             "outlinewidth": 0,
             "ticks": ""
            },
            "colorscale": [
             [
              0,
              "#0d0887"
             ],
             [
              0.1111111111111111,
              "#46039f"
             ],
             [
              0.2222222222222222,
              "#7201a8"
             ],
             [
              0.3333333333333333,
              "#9c179e"
             ],
             [
              0.4444444444444444,
              "#bd3786"
             ],
             [
              0.5555555555555556,
              "#d8576b"
             ],
             [
              0.6666666666666666,
              "#ed7953"
             ],
             [
              0.7777777777777778,
              "#fb9f3a"
             ],
             [
              0.8888888888888888,
              "#fdca26"
             ],
             [
              1,
              "#f0f921"
             ]
            ],
            "type": "surface"
           }
          ],
          "table": [
           {
            "cells": {
             "fill": {
              "color": "#EBF0F8"
             },
             "line": {
              "color": "white"
             }
            },
            "header": {
             "fill": {
              "color": "#C8D4E3"
             },
             "line": {
              "color": "white"
             }
            },
            "type": "table"
           }
          ]
         },
         "layout": {
          "annotationdefaults": {
           "arrowcolor": "#2a3f5f",
           "arrowhead": 0,
           "arrowwidth": 1
          },
          "autotypenumbers": "strict",
          "coloraxis": {
           "colorbar": {
            "outlinewidth": 0,
            "ticks": ""
           }
          },
          "colorscale": {
           "diverging": [
            [
             0,
             "#8e0152"
            ],
            [
             0.1,
             "#c51b7d"
            ],
            [
             0.2,
             "#de77ae"
            ],
            [
             0.3,
             "#f1b6da"
            ],
            [
             0.4,
             "#fde0ef"
            ],
            [
             0.5,
             "#f7f7f7"
            ],
            [
             0.6,
             "#e6f5d0"
            ],
            [
             0.7,
             "#b8e186"
            ],
            [
             0.8,
             "#7fbc41"
            ],
            [
             0.9,
             "#4d9221"
            ],
            [
             1,
             "#276419"
            ]
           ],
           "sequential": [
            [
             0,
             "#0d0887"
            ],
            [
             0.1111111111111111,
             "#46039f"
            ],
            [
             0.2222222222222222,
             "#7201a8"
            ],
            [
             0.3333333333333333,
             "#9c179e"
            ],
            [
             0.4444444444444444,
             "#bd3786"
            ],
            [
             0.5555555555555556,
             "#d8576b"
            ],
            [
             0.6666666666666666,
             "#ed7953"
            ],
            [
             0.7777777777777778,
             "#fb9f3a"
            ],
            [
             0.8888888888888888,
             "#fdca26"
            ],
            [
             1,
             "#f0f921"
            ]
           ],
           "sequentialminus": [
            [
             0,
             "#0d0887"
            ],
            [
             0.1111111111111111,
             "#46039f"
            ],
            [
             0.2222222222222222,
             "#7201a8"
            ],
            [
             0.3333333333333333,
             "#9c179e"
            ],
            [
             0.4444444444444444,
             "#bd3786"
            ],
            [
             0.5555555555555556,
             "#d8576b"
            ],
            [
             0.6666666666666666,
             "#ed7953"
            ],
            [
             0.7777777777777778,
             "#fb9f3a"
            ],
            [
             0.8888888888888888,
             "#fdca26"
            ],
            [
             1,
             "#f0f921"
            ]
           ]
          },
          "colorway": [
           "#636efa",
           "#EF553B",
           "#00cc96",
           "#ab63fa",
           "#FFA15A",
           "#19d3f3",
           "#FF6692",
           "#B6E880",
           "#FF97FF",
           "#FECB52"
          ],
          "font": {
           "color": "#2a3f5f"
          },
          "geo": {
           "bgcolor": "white",
           "lakecolor": "white",
           "landcolor": "#E5ECF6",
           "showlakes": true,
           "showland": true,
           "subunitcolor": "white"
          },
          "hoverlabel": {
           "align": "left"
          },
          "hovermode": "closest",
          "mapbox": {
           "style": "light"
          },
          "paper_bgcolor": "white",
          "plot_bgcolor": "#E5ECF6",
          "polar": {
           "angularaxis": {
            "gridcolor": "white",
            "linecolor": "white",
            "ticks": ""
           },
           "bgcolor": "#E5ECF6",
           "radialaxis": {
            "gridcolor": "white",
            "linecolor": "white",
            "ticks": ""
           }
          },
          "scene": {
           "xaxis": {
            "backgroundcolor": "#E5ECF6",
            "gridcolor": "white",
            "gridwidth": 2,
            "linecolor": "white",
            "showbackground": true,
            "ticks": "",
            "zerolinecolor": "white"
           },
           "yaxis": {
            "backgroundcolor": "#E5ECF6",
            "gridcolor": "white",
            "gridwidth": 2,
            "linecolor": "white",
            "showbackground": true,
            "ticks": "",
            "zerolinecolor": "white"
           },
           "zaxis": {
            "backgroundcolor": "#E5ECF6",
            "gridcolor": "white",
            "gridwidth": 2,
            "linecolor": "white",
            "showbackground": true,
            "ticks": "",
            "zerolinecolor": "white"
           }
          },
          "shapedefaults": {
           "line": {
            "color": "#2a3f5f"
           }
          },
          "ternary": {
           "aaxis": {
            "gridcolor": "white",
            "linecolor": "white",
            "ticks": ""
           },
           "baxis": {
            "gridcolor": "white",
            "linecolor": "white",
            "ticks": ""
           },
           "bgcolor": "#E5ECF6",
           "caxis": {
            "gridcolor": "white",
            "linecolor": "white",
            "ticks": ""
           }
          },
          "title": {
           "x": 0.05
          },
          "xaxis": {
           "automargin": true,
           "gridcolor": "white",
           "linecolor": "white",
           "ticks": "",
           "title": {
            "standoff": 15
           },
           "zerolinecolor": "white",
           "zerolinewidth": 2
          },
          "yaxis": {
           "automargin": true,
           "gridcolor": "white",
           "linecolor": "white",
           "ticks": "",
           "title": {
            "standoff": 15
           },
           "zerolinecolor": "white",
           "zerolinewidth": 2
          }
         }
        },
        "xaxis": {
         "anchor": "y",
         "domain": [
          0,
          1
         ],
         "title": {
          "text": "Tempo"
         }
        },
        "yaxis": {
         "anchor": "x",
         "domain": [
          0,
          1
         ],
         "title": {
          "text": "Valor"
         }
        }
       }
      }
     },
     "metadata": {},
     "output_type": "display_data"
    }
   ],
   "source": [
    "fig"
   ]
  },
  {
   "cell_type": "code",
   "execution_count": 134,
   "metadata": {},
   "outputs": [
    {
     "data": {
      "text/plain": [
       "array([0.7+0.j, 0.5+0.j])"
      ]
     },
     "execution_count": 134,
     "metadata": {},
     "output_type": "execute_result"
    }
   ],
   "source": [
    "control.poles(Gz)"
   ]
  },
  {
   "cell_type": "code",
   "execution_count": 135,
   "metadata": {},
   "outputs": [
    {
     "data": {
      "text/plain": [
       "array([-0.4+0.j])"
      ]
     },
     "execution_count": 135,
     "metadata": {},
     "output_type": "execute_result"
    }
   ],
   "source": [
    "control.zeros(Gz)"
   ]
  },
  {
   "cell_type": "code",
   "execution_count": 136,
   "metadata": {},
   "outputs": [],
   "source": [
    "import math"
   ]
  },
  {
   "cell_type": "code",
   "execution_count": 137,
   "metadata": {},
   "outputs": [
    {
     "data": {
      "text/plain": [
       "2.059130277851302"
      ]
     },
     "execution_count": 137,
     "metadata": {},
     "output_type": "execute_result"
    }
   ],
   "source": [
    "tetap1 = math.pi - math.atan((0.64/0.34))\n",
    "tetap1"
   ]
  },
  {
   "cell_type": "code",
   "execution_count": 138,
   "metadata": {},
   "outputs": [
    {
     "data": {
      "text/plain": [
       "1.7861540264926346"
      ]
     },
     "execution_count": 138,
     "metadata": {},
     "output_type": "execute_result"
    }
   ],
   "source": [
    "tetap2 = math.pi - math.atan((0.64/(0.5-0.36)))\n",
    "tetap2"
   ]
  },
  {
   "cell_type": "code",
   "execution_count": 139,
   "metadata": {},
   "outputs": [
    {
     "data": {
      "text/plain": [
       "0.6998928697192437"
      ]
     },
     "execution_count": 139,
     "metadata": {},
     "output_type": "execute_result"
    }
   ],
   "source": [
    "tetaz1 = math.atan((0.64/(0.4+0.36)))\n",
    "tetaz1"
   ]
  },
  {
   "cell_type": "code",
   "execution_count": 140,
   "metadata": {},
   "outputs": [
    {
     "data": {
      "text/plain": [
       "3.1453914346246927"
      ]
     },
     "execution_count": 140,
     "metadata": {},
     "output_type": "execute_result"
    }
   ],
   "source": [
    "tetap1 + tetap2 -tetaz1"
   ]
  },
  {
   "cell_type": "code",
   "execution_count": 141,
   "metadata": {},
   "outputs": [],
   "source": [
    "import numpy as np"
   ]
  },
  {
   "cell_type": "code",
   "execution_count": 142,
   "metadata": {},
   "outputs": [],
   "source": [
    "x = np.arange(-2,2,0.1)"
   ]
  },
  {
   "cell_type": "code",
   "execution_count": 143,
   "metadata": {},
   "outputs": [],
   "source": [
    "#%matplotlib widget"
   ]
  },
  {
   "cell_type": "code",
   "execution_count": 144,
   "metadata": {},
   "outputs": [
    {
     "data": {
      "image/png": "[encoded data removed]",
      "text/plain": [
       "<Figure size 640x480 with 1 Axes>"
      ]
     },
     "metadata": {},
     "output_type": "display_data"
    }
   ],
   "source": [
    "control.rlocus(Gz);"
   ]
  },
  {
   "cell_type": "code",
   "execution_count": 145,
   "metadata": {},
   "outputs": [],
   "source": [
    "zcorte = -0.2124831 + 0.9771580j"
   ]
  },
  {
   "cell_type": "code",
   "execution_count": 146,
   "metadata": {},
   "outputs": [
    {
     "data": {
      "text/plain": [
       "0.9999934123531065"
      ]
     },
     "execution_count": 146,
     "metadata": {},
     "output_type": "execute_result"
    }
   ],
   "source": [
    "abs(zcorte)"
   ]
  },
  {
   "cell_type": "code",
   "execution_count": 147,
   "metadata": {},
   "outputs": [
    {
     "data": {
      "text/plain": [
       "-0.2124831"
      ]
     },
     "execution_count": 147,
     "metadata": {},
     "output_type": "execute_result"
    }
   ],
   "source": [
    "zcorte.real"
   ]
  },
  {
   "cell_type": "code",
   "execution_count": 148,
   "metadata": {},
   "outputs": [
    {
     "data": {
      "text/plain": [
       "1.3369604200385328"
      ]
     },
     "execution_count": 148,
     "metadata": {},
     "output_type": "execute_result"
    }
   ],
   "source": [
    "rp0_7 = math.sqrt((zcorte.imag**2)+(0.7-zcorte.real)**2) \n",
    "rp0_7"
   ]
  },
  {
   "cell_type": "code",
   "execution_count": 149,
   "metadata": {},
   "outputs": [
    {
     "data": {
      "text/plain": [
       "1.2093262275951886"
      ]
     },
     "execution_count": 149,
     "metadata": {},
     "output_type": "execute_result"
    }
   ],
   "source": [
    "rp0_5 = math.sqrt((zcorte.imag**2)+(0.5-zcorte.real)**2) \n",
    "rp0_5"
   ]
  },
  {
   "cell_type": "code",
   "execution_count": 150,
   "metadata": {},
   "outputs": [
    {
     "data": {
      "text/plain": [
       "0.9949876103498023"
      ]
     },
     "execution_count": 150,
     "metadata": {},
     "output_type": "execute_result"
    }
   ],
   "source": [
    "rz0_4 = math.sqrt((zcorte.imag**2)+(0.4+zcorte.real)**2) \n",
    "rz0_4"
   ]
  },
  {
   "cell_type": "code",
   "execution_count": 151,
   "metadata": {},
   "outputs": [
    {
     "data": {
      "text/plain": [
       "1.6249662652993846"
      ]
     },
     "execution_count": 151,
     "metadata": {},
     "output_type": "execute_result"
    }
   ],
   "source": [
    "K = (rp0_5*rp0_7)/rz0_4\n",
    "K"
   ]
  },
  {
   "cell_type": "code",
   "execution_count": 152,
   "metadata": {},
   "outputs": [],
   "source": [
    "T1, yout1 = control.step_response(control.feedback((K+0.1)*Gz), T = np.arange(0,1000,2))"
   ]
  },
  {
   "cell_type": "code",
   "execution_count": 153,
   "metadata": {},
   "outputs": [],
   "source": [
    "import matplotlib.pyplot as plt"
   ]
  },
  {
   "cell_type": "code",
   "execution_count": 154,
   "metadata": {},
   "outputs": [
    {
     "data": {
      "text/plain": [
       "[<matplotlib.lines.Line2D at 0x7f7f2c0e4a00>]"
      ]
     },
     "execution_count": 154,
     "metadata": {},
     "output_type": "execute_result"
    },
    {
     "data": {
      "image/png": "[encoded data removed]",
      "text/plain": [
       "<Figure size 640x480 with 1 Axes>"
      ]
     },
     "metadata": {},
     "output_type": "display_data"
    }
   ],
   "source": [
    "plt.plot(T1,yout1)"
   ]
  },
  {
   "cell_type": "code",
   "execution_count": 155,
   "metadata": {},
   "outputs": [],
   "source": [
    "import matplotlib.pyplot as plt"
   ]
  },
  {
   "cell_type": "code",
   "execution_count": 156,
   "metadata": {},
   "outputs": [],
   "source": [
    "list_of_tuples1 = list(zip(T1, yout1))"
   ]
  },
  {
   "cell_type": "code",
   "execution_count": 157,
   "metadata": {},
   "outputs": [],
   "source": [
    "df1 = pd.DataFrame(list_of_tuples1, columns = ['Tempo', 'Valor'])"
   ]
  },
  {
   "cell_type": "code",
   "execution_count": 158,
   "metadata": {},
   "outputs": [],
   "source": [
    "fig = px.line(df1, x = \"Tempo\", y='Valor')"
   ]
  },
  {
   "cell_type": "code",
   "execution_count": 159,
   "metadata": {},
   "outputs": [
    {
     "data": {
      "text/latex": [
       "$$\\frac{z + 0.4}{z^2 - 1.2 z + 0.35}\\quad dt = 2$$"
      ],
      "text/plain": [
       "TransferFunction(array([1. , 0.4]), array([ 1.  , -1.2 ,  0.35]), 2)"
      ]
     },
     "execution_count": 159,
     "metadata": {},
     "output_type": "execute_result"
    }
   ],
   "source": [
    "Gz"
   ]
  },
  {
   "cell_type": "code",
   "execution_count": 160,
   "metadata": {},
   "outputs": [
    {
     "data": {
      "application/vnd.plotly.v1+json": {
       "config": {
        "plotlyServerURL": "https://plot.ly"
       },
       "data": [
        {
         "hovertemplate": "Tempo=%{x}<br>Valor=%{y}<extra></extra>",
         "legendgroup": "",
         "line": {
          "color": "#636efa",
          "dash": "solid"
         },
         "marker": {
          "symbol": "circle"
         },
         "mode": "lines",
         "name": "",
         "orientation": "v",
         "showlegend": false,
         "type": "scatter",
         "x": [
          0,
          2,
          4,
          6,
          8,
          10,
          12,
          14,
          16,
          18,
          20,
          22,
          24,
          26,
          28,
          30,
          32,
          34,
          36,
          38,
          40,
          42,
          44,
          46,
          48,
          50,
          52,
          54,
          56,
          58,
          60,
          62,
          64,
          66,
          68,
          70,
          72,
          74,
          76,
          78,
          80,
          82,
          84,
          86,
          88,
          90,
          92,
          94,
          96,
          98,
          100,
          102,
          104,
          106,
          108,
          110,
          112,
          114,
          116,
          118,
          120,
          122,
          124,
          126,
          128,
          130,
          132,
          134,
          136,
          138,
          140,
          142,
          144,
          146,
          148,
          150,
          152,
          154,
          156,
          158,
          160,
          162,
          164,
          166,
          168,
          170,
          172,
          174,
          176,
          178,
          180,
          182,
          184,
          186,
          188,
          190,
          192,
          194,
          196,
          198,
          200,
          202,
          204,
          206,
          208,
          210,
          212,
          214,
          216,
          218,
          220,
          222,
          224,
          226,
          228,
          230,
          232,
          234,
          236,
          238,
          240,
          242,
          244,
          246,
          248,
          250,
          252,
          254,
          256,
          258,
          260,
          262,
          264,
          266,
          268,
          270,
          272,
          274,
          276,
          278,
          280,
          282,
          284,
          286,
          288,
          290,
          292,
          294,
          296,
          298,
          300,
          302,
          304,
          306,
          308,
          310,
          312,
          314,
          316,
          318,
          320,
          322,
          324,
          326,
          328,
          330,
          332,
          334,
          336,
          338,
          340,
          342,
          344,
          346,
          348,
          350,
          352,
          354,
          356,
          358,
          360,
          362,
          364,
          366,
          368,
          370,
          372,
          374,
          376,
          378,
          380,
          382,
          384,
          386,
          388,
          390,
          392,
          394,
          396,
          398,
          400,
          402,
          404,
          406,
          408,
          410,
          412,
          414,
          416,
          418,
          420,
          422,
          424,
          426,
          428,
          430,
          432,
          434,
          436,
          438,
          440,
          442,
          444,
          446,
          448,
          450,
          452,
          454,
          456,
          458,
          460,
          462,
          464,
          466,
          468,
          470,
          472,
          474,
          476,
          478,
          480,
          482,
          484,
          486,
          488,
          490,
          492,
          494,
          496,
          498,
          500,
          502,
          504,
          506,
          508,
          510,
          512,
          514,
          516,
          518,
          520,
          522,
          524,
          526,
          528,
          530,
          532,
          534,
          536,
          538,
          540,
          542,
          544,
          546,
          548,
          550,
          552,
          554,
          556,
          558,
          560,
          562,
          564,
          566,
          568,
          570,
          572,
          574,
          576,
          578,
          580,
          582,
          584,
          586,
          588,
          590,
          592,
          594,
          596,
          598,
          600,
          602,
          604,
          606,
          608,
          610,
          612,
          614,
          616,
          618,
          620,
          622,
          624,
          626,
          628,
          630,
          632,
          634,
          636,
          638,
          640,
          642,
          644,
          646,
          648,
          650,
          652,
          654,
          656,
          658,
          660,
          662,
          664,
          666,
          668,
          670,
          672,
          674,
          676,
          678,
          680,
          682,
          684,
          686,
          688,
          690,
          692,
          694,
          696,
          698,
          700,
          702,
          704,
          706,
          708,
          710,
          712,
          714,
          716,
          718,
          720,
          722,
          724,
          726,
          728,
          730,
          732,
          734,
          736,
          738,
          740,
          742,
          744,
          746,
          748,
          750,
          752,
          754,
          756,
          758,
          760,
          762,
          764,
          766,
          768,
          770,
          772,
          774,
          776,
          778,
          780,
          782,
          784,
          786,
          788,
          790,
          792,
          794,
          796,
          798,
          800,
          802,
          804,
          806,
          808,
          810,
          812,
          814,
          816,
          818,
          820,
          822,
          824,
          826,
          828,
          830,
          832,
          834,
          836,
          838,
          840,
          842,
          844,
          846,
          848,
          850,
          852,
          854,
          856,
          858,
          860,
          862,
          864,
          866,
          868,
          870,
          872,
          874,
          876,
          878,
          880,
          882,
          884,
          886,
          888,
          890,
          892,
          894,
          896,
          898,
          900,
          902,
          904,
          906,
          908,
          910,
          912,
          914,
          916,
          918,
          920,
          922,
          924,
          926,
          928,
          930,
          932,
          934,
          936,
          938,
          940,
          942,
          944,
          946,
          948,
          950,
          952,
          954,
          956,
          958,
          960,
          962,
          964,
          966,
          968,
          970,
          972,
          974,
          976,
          978,
          980,
          982,
          984,
          986,
          988,
          990,
          992,
          994,
          996,
          998
         ],
         "xaxis": "x",
         "y": [
          0,
          1.7249662652993847,
          1.509403673357493,
          -0.17137487723566464,
          0.9351593481083044,
          2.1022532207959355,
          0.3387876462799115,
          0.0507857039474402,
          2.0359574095160706,
          1.2933273670277465,
          -0.3813686991901475,
          1.2701154634308278,
          2.1448033010970566,
          -0.031899550541673705,
          0.20113246790968753,
          2.3425401130247674,
          0.9760231844018884,
          -0.533636582131935,
          1.6800430335300724,
          2.0879616991536856,
          -0.4283787684455016,
          0.4683851812088173,
          2.6145744908098907,
          0.5552750975080041,
          -0.5956701124206031,
          2.1501808770943924,
          1.9056692256690042,
          -0.821618382771194,
          0.864404425500408,
          2.815641639717906,
          0.03786695704437115,
          -0.533155414974217,
          2.6554602540883345,
          1.575400156417294,
          -1.173721996836516,
          1.392722320185205,
          2.9044755750383264,
          -0.5582113436264233,
          -0.3126205096638189,
          3.1596002577678015,
          1.0813903358464545,
          -1.4386823073320318,
          2.0455810921229154,
          2.837301891338881,
          -1.2019117389854554,
          0.09516020747332943,
          3.6149688627885515,
          0.4182507366556498,
          -1.5641335931048606,
          2.801095019924182,
          2.571150210658496,
          -1.847915375274371,
          0.7110844802744377,
          3.9634644622336803,
          -0.4052506291631044,
          -1.494253877487095,
          3.620840834818832,
          2.0681373504244887,
          -2.436375178578341,
          1.5431326125418026,
          4.138657516517966,
          -1.362539902577322,
          -1.173907715233235,
          4.448237833221403,
          1.3006261522219063,
          -2.893939404825136,
          2.5815396849556755,
          4.069389454832181,
          -2.4061058500993537,
          -0.5540329477106928,
          5.208118995230758,
          0.2570527828229352,
          -3.136364745270191,
          3.794107032863902,
          3.684951585581164,
          -3.4653426172249677,
          0.40184081845752306,
          5.807909458704323,
          -1.0519127951177825,
          -3.072975962925023,
          5.1221365985678755,
          2.921857385988049,
          -4.445876733253155,
          1.7101958218225686,
          6.140809468361387,
          -2.5873456186194934,
          -2.6131370458837226,
          6.477566097144524,
          1.7320763555319745,
          -5.230910217686954,
          3.359668135192317,
          6.091316378960258,
          -4.276792364441126,
          -1.6747623521841888,
          7.741952857204052,
          0.09241894107776183,
          -5.685090557428866,
          5.3033190776106185,
          5.543306627349764,
          -6.0104764845125,
          -0.19471392756451822,
          8.767985454017555,
          -1.9854439493551093,
          -5.661342691559191,
          7.451801616773359,
          4.390728312650958,
          -7.639804600543164,
          1.8592942629883886,
          9.38417970004206,
          -4.445065943024039,
          -5.010957820508706,
          9.668345183581817,
          2.550726224833203,
          -8.979040976065754,
          4.475925523962207,
          9.403324318351235,
          -7.176377424702276,
          -3.597021577309108,
          11.766603439573203,
          -0.021263188889433238,
          -9.810993571739633,
          7.587506855173652,
          8.635068560962015,
          -10.009071666104951,
          -1.3109770397312723,
          13.512470963394822,
          -3.315240214047277,
          -9.897445421107737,
          11.058582817297294,
          6.902779533327422,
          -12.709550527173747,
          1.9082404759232352,
          14.6309519425885,
          -7.250347773048026,
          -8.994851828020767,
          14.677210391141902,
          4.064436973056253,
          -14.982840281139154,
          6.053478870433223,
          14.819032292471292,
          -11.660075606842097,
          -6.875494502071535,
          18.150676733709965,
          0.03688129892193448,
          -16.480867546335435,
          11.028496202905705,
          13.765244165247115,
          -16.280823282759666,
          -3.353832419131928,
          21.107438173521192,
          -5.177799756887773,
          -16.81832790695845,
          16.62884943986896,
          11.17620186347944,
          -20.745955210844436,
          1.6827802708353854,
          23.10706337316221,
          -11.465544764059374,
          -15.597057118312396,
          22.526893436414532,
          6.8098225935313295,
          -24.587639561527137,
          8.240510478219432,
          23.65977612283228,
          -18.57565123849033,
          -12.439304877966626,
          28.26359482654234,
          0.5142281699891207,
          -27.24875690453191,
          16.18484055978674,
          22.256796957532558,
          -26.10113059078133,
          -7.029602687527919,
          33.25008064971129,
          -7.729525949750947,
          -28.106942061298717,
          25.20875186076878,
          18.412048926252844,
          -33.467513561226134,
          0.8359859411928667,
          36.78185085108338,
          -17.763692198819506,
          -26.512336632274874,
          34.80703530326157,
          11.714905785392386,
          -39.93382460049839,
          11.195519593791152,
          38.06832138445191,
          -29.21282103853539,
          -21.8398422195817,
          44.26107286192883,
          1.8925238570978742,
          -44.60947693262074,
          23.8652239998046,
          36.27976931269447,
          -41.45021315591139,
          -13.55555416259843,
          52.63882377215731,
          -11.12106054192493,
          -46.49053203077751,
          38.38666664074059,
          30.612773722073882,
          -53.57733604120066,
          -1.2956248081958641,
          58.8148186048992,
          -27.113410578337874,
          -44.518039046718215,
          53.983002604582964,
          20.37385739194352,
          -64.42222932196553,
          15.04591313560243,
          61.51460513359948,
          -45.52568638020942,
          -37.659956942599656,
          69.53125923616898,
          5.0792343299987515,
          -72.56304526451098,
          35.22576847806076,
          59.38720056923911,
          -65.39564800288159,
          -25.016425357911,
          83.5583236446566,
          -15.433603523414035,
          -76.38245509121282,
          58.56390436020398,
          51.10760121725193,
          -85.32048404831185,
          -5.945886990294376,
          94.26849496445624,
          -40.88918472864615,
          -74.1575673456993,
          83.86937430860843,
          35.50922993382699,
          -103.44921260825868,
          19.793179588655008,
          99.60998638566545,
          -70.46156945339236,
          -64.18814198136474,
          109.39064337543073,
          11.743356773440603,
          -117.51470638221842,
          51.89327671771787,
          97.38644200690337,
          -102.67795152450502,
          -44.96317205436365,
          132.80278534231553,
          -20.540937262213106,
          -124.91485283941428,
          89.35333412270279,
          85.41722803190149,
          -135.35247218513476,
          -15.362329949843335,
          151.24440239397472,
          -61.006640450386676,
          -122.85075664875895,
          130.35353853062335,
          61.746871661749296,
          -165.56599293557952,
          25.11560042006714,
          161.41650834346603,
          -108.44315430128266,
          -108.52704005992297,
          172.16740483006993,
          24.899530462927927,
          -189.7082385603421,
          76.11020257480385,
          159.7536721770477,
          -160.60391953506476,
          -79.41507076502339,
          211.13109502582995,
          -25.831147694690614,
          -203.59805594405293,
          136.16110886264846,
          142.67419482680143,
          -214.08990231686087,
          -33.57430816236263,
          242.6909414434568,
          -90.07277693898062,
          -202.6951821724741,
          202.4975581359557,
          106.9108202593998,
          -264.30434924384605,
          29.98000946837506,
          261.54941588952875,
          -166.06847257979484,
          -182.41256460300613,
          270.884366129647,
          49.91640449017146,
          -305.5055611645954,
          110.88267914039572,
          261.92694797241796,
          -250.40434895534526,
          -138.53170282321489,
          335.5565674153477,
          -29.66982361536182,
          -330.983692884958,
          207.02644209916355,
          237.95162899044306,
          -337.8063314147112,
          -67.7146022905885,
          389.27686099525977,
          -131.5199944632523,
          -333.3841695027369,
          314.2094146719351,
          184.1806474659748,
          -421.047225223815,
          31.905154058820955,
          423.5492558732909,
          -253.11504795156156,
          -305.19369659966037,
          425.8675822337348,
          96.24616483054974,
          -491.0075758459925,
          160.0826534074448,
          429.0182133553009,
          -389.28893584671573,
          -239.39464122387716,
          532.9443037697071,
          -28.395631480932707,
          -536.9331830531004,
          313.81783416703547,
          396.07444144756107,
          -531.8770804492902,
          -130.2795972311586,
          623.9523329562013,
          -189.64995004231469,
          -546.9272279770411,
          486.76668596336424,
          315.67580049467847,
          -669.5349782901967,
          25.599656988711104,
          685.2833392460971,
          -383.95898033404956,
          -508.70496097908153,
          668.7800547267884,
          180.37428014919968,
          -787.7976919124616,
          228.39534749994755,
          701.8140693238638,
          -603.5418375965706,
          -410.6231046953932,
          845.6535974681515,
          -14.48217004421764,
          -869.4507267255409,
          473.9085150676804,
          657.8459930533379,
          -835.7904621495944,
          -242.97420562148238,
          999.1790166397847,
          -269.43042877797217,
          -895.2758557783782,
          752.6085854592553,
          538.3956436949493,
          -1062.9273708200778,
          0.4917605189233427,
          1107.5869177266072,
          -579.5422392258976,
          -845.2203711093606,
          1048.84324286902,
          330.82541332923995,
          -1262.040048548822,
          320.8894379724487,
          1146.463443618498,
          -933.1603649749542,
          -700.0138466250919,
          1340.372795111787,
          26.76940699976558,
          -1405.607702931803,
          712.4717569989907,
          1090.2043593154272,
          -1310.8665714218919,
          -443.2221415243969,
          1598.3751707077115,
          -375.73304474340216,
          -1462.6264832329487,
          1161.0018116386211,
          914.0399737653295,
          -1684.851416275268,
          -63.684130412171044,
          1788.0697106157709,
          -870.0306890228651,
          -1400.416656758252,
          1642.4066314267006,
          596.6213033423223,
          -2018.8718388876198,
          441.77645741075844,
          1870.0966858555992,
          -1438.7642745795285,
          -1187.157657785483,
          2121.9281057505154,
          123.10222459540819,
          -2268.986159261264,
          1065.5314903622525,
          1802.7618539212622,
          -2052.112576728234,
          -795.1431736752065,
          2554.007683869994,
          -511.4147515202924,
          -2385.2430828549204,
          1786.4515464206486,
          1545.2087762932601,
          -2666.6530297413274,
          -204.67844183879515,
          2883.1473974051687,
          -1298.2773511460493,
          -2314.4676233303244,
          2567.6233035402715,
          1061.5144335308091,
          -3225.137903441149,
          591.5428660930113,
          3045.974803548226,
          -2211.8156625714564,
          -2004.229132988683,
          3354.826078619349,
          325.6156890299633,
          -3657.496151564299,
          1583.8411250329536,
          2974.698436347095,
          -3206.374773621437,
          -1407.9926907468857,
          4076.1501153307186,
          -673.1329509813995,
          -3883.3540727643485,
          2741.094023030899,
          2602.0688948265333,
          -4214.2842329550085,
          -491.3445311576438,
          4643.152991494971,
          -1924.0920501276755,
          -3816.3180865851573,
          4006.882974545599,
          1867.855875241849,
          -5145.250595300211,
          760.953036187582,
          4953.931469012648,
          -3389.612838491187,
          -3370.1745346101798,
          5296.794504613928,
          726.7125628889494,
          -5887.679437802289,
          2337.4767792822577,
          4898.425665400698,
          -5000.03758346245,
          -2467.0305839291404,
          6497.49440168863,
          -842.8718996156786,
          -6312.41223530636,
          4192.793830958169,
          4366.163179946857,
          -6650.122432631611,
          -1047.2459006479505,
          7468.221316065813,
          -2829.0276946898093,
          -6279.290337343099,
          6240.981177813417,
          3256.4875908959357,
          -8197.667385688332,
          919.2106325245959,
          8045.323842765364,
          -5177.075312196592,
          -5646.823389250593,
          8350.895204081684,
          1491.0968128401455,
          -9465.178898530208,
          3420.594004851443,
          8050.376825419944,
          -7781.132911481636,
          -4285.036030505863,
          10344.187544644597,
          -971.5549001340169,
          -10245.36696297432,
          6391.2909700396485,
          7302.246193526441,
          -10477.874325267072,
          -2091.2920000486506,
          11997.120614783818,
          -4120.753190311113,
          -10311.172186356729,
          9700.960219275486,
          5633.218032728788,
          -13043.702203938394,
          991.4478443819062,
          13047.21256260755,
          -7878.023878466581,
          -9430.813281398594,
          13146.312308337529,
          2908.9630321936284,
          -15196.679912040308,
          4954.876950862825,
          13205.61375120201,
          -12083.091947564428,
          -7388.029500526171,
          16447.133785255584,
          -948.3244579916545,
          -16604.543899236756,
          9705.48499028807,
          12175.864339979966,
          -16483.07650182722,
          -4007.2605493441624,
          19248.2686986821
         ],
         "yaxis": "y"
        }
       ],
       "layout": {
        "legend": {
         "tracegroupgap": 0
        },
        "margin": {
         "t": 60
        },
        "template": {
         "data": {
          "bar": [
           {
            "error_x": {
             "color": "#2a3f5f"
            },
            "error_y": {
             "color": "#2a3f5f"
            },
            "marker": {
             "line": {
              "color": "#E5ECF6",
              "width": 0.5
             },
             "pattern": {
              "fillmode": "overlay",
              "size": 10,
              "solidity": 0.2
             }
            },
            "type": "bar"
           }
          ],
          "barpolar": [
           {
            "marker": {
             "line": {
              "color": "#E5ECF6",
              "width": 0.5
             },
             "pattern": {
              "fillmode": "overlay",
              "size": 10,
              "solidity": 0.2
             }
            },
            "type": "barpolar"
           }
          ],
          "carpet": [
           {
            "aaxis": {
             "endlinecolor": "#2a3f5f",
             "gridcolor": "white",
             "linecolor": "white",
             "minorgridcolor": "white",
             "startlinecolor": "#2a3f5f"
            },
            "baxis": {
             "endlinecolor": "#2a3f5f",
             "gridcolor": "white",
             "linecolor": "white",
             "minorgridcolor": "white",
             "startlinecolor": "#2a3f5f"
            },
            "type": "carpet"
           }
          ],
          "choropleth": [
           {
            "colorbar": {
             "outlinewidth": 0,
             "ticks": ""
            },
            "type": "choropleth"
           }
          ],
          "contour": [
           {
            "colorbar": {
             "outlinewidth": 0,
             "ticks": ""
            },
            "colorscale": [
             [
              0,
              "#0d0887"
             ],
             [
              0.1111111111111111,
              "#46039f"
             ],
             [
              0.2222222222222222,
              "#7201a8"
             ],
             [
              0.3333333333333333,
              "#9c179e"
             ],
             [
              0.4444444444444444,
              "#bd3786"
             ],
             [
              0.5555555555555556,
              "#d8576b"
             ],
             [
              0.6666666666666666,
              "#ed7953"
             ],
             [
              0.7777777777777778,
              "#fb9f3a"
             ],
             [
              0.8888888888888888,
              "#fdca26"
             ],
             [
              1,
              "#f0f921"
             ]
            ],
            "type": "contour"
           }
          ],
          "contourcarpet": [
           {
            "colorbar": {
             "outlinewidth": 0,
             "ticks": ""
            },
            "type": "contourcarpet"
           }
          ],
          "heatmap": [
           {
            "colorbar": {
             "outlinewidth": 0,
             "ticks": ""
            },
            "colorscale": [
             [
              0,
              "#0d0887"
             ],
             [
              0.1111111111111111,
              "#46039f"
             ],
             [
              0.2222222222222222,
              "#7201a8"
             ],
             [
              0.3333333333333333,
              "#9c179e"
             ],
             [
              0.4444444444444444,
              "#bd3786"
             ],
             [
              0.5555555555555556,
              "#d8576b"
             ],
             [
              0.6666666666666666,
              "#ed7953"
             ],
             [
              0.7777777777777778,
              "#fb9f3a"
             ],
             [
              0.8888888888888888,
              "#fdca26"
             ],
             [
              1,
              "#f0f921"
             ]
            ],
            "type": "heatmap"
           }
          ],
          "heatmapgl": [
           {
            "colorbar": {
             "outlinewidth": 0,
             "ticks": ""
            },
            "colorscale": [
             [
              0,
              "#0d0887"
             ],
             [
              0.1111111111111111,
              "#46039f"
             ],
             [
              0.2222222222222222,
              "#7201a8"
             ],
             [
              0.3333333333333333,
              "#9c179e"
             ],
             [
              0.4444444444444444,
              "#bd3786"
             ],
             [
              0.5555555555555556,
              "#d8576b"
             ],
             [
              0.6666666666666666,
              "#ed7953"
             ],
             [
              0.7777777777777778,
              "#fb9f3a"
             ],
             [
              0.8888888888888888,
              "#fdca26"
             ],
             [
              1,
              "#f0f921"
             ]
            ],
            "type": "heatmapgl"
           }
          ],
          "histogram": [
           {
            "marker": {
             "pattern": {
              "fillmode": "overlay",
              "size": 10,
              "solidity": 0.2
             }
            },
            "type": "histogram"
           }
          ],
          "histogram2d": [
           {
            "colorbar": {
             "outlinewidth": 0,
             "ticks": ""
            },
            "colorscale": [
             [
              0,
              "#0d0887"
             ],
             [
              0.1111111111111111,
              "#46039f"
             ],
             [
              0.2222222222222222,
              "#7201a8"
             ],
             [
              0.3333333333333333,
              "#9c179e"
             ],
             [
              0.4444444444444444,
              "#bd3786"
             ],
             [
              0.5555555555555556,
              "#d8576b"
             ],
             [
              0.6666666666666666,
              "#ed7953"
             ],
             [
              0.7777777777777778,
              "#fb9f3a"
             ],
             [
              0.8888888888888888,
              "#fdca26"
             ],
             [
              1,
              "#f0f921"
             ]
            ],
            "type": "histogram2d"
           }
          ],
          "histogram2dcontour": [
           {
            "colorbar": {
             "outlinewidth": 0,
             "ticks": ""
            },
            "colorscale": [
             [
              0,
              "#0d0887"
             ],
             [
              0.1111111111111111,
              "#46039f"
             ],
             [
              0.2222222222222222,
              "#7201a8"
             ],
             [
              0.3333333333333333,
              "#9c179e"
             ],
             [
              0.4444444444444444,
              "#bd3786"
             ],
             [
              0.5555555555555556,
              "#d8576b"
             ],
             [
              0.6666666666666666,
              "#ed7953"
             ],
             [
              0.7777777777777778,
              "#fb9f3a"
             ],
             [
              0.8888888888888888,
              "#fdca26"
             ],
             [
              1,
              "#f0f921"
             ]
            ],
            "type": "histogram2dcontour"
           }
          ],
          "mesh3d": [
           {
            "colorbar": {
             "outlinewidth": 0,
             "ticks": ""
            },
            "type": "mesh3d"
           }
          ],
          "parcoords": [
           {
            "line": {
             "colorbar": {
              "outlinewidth": 0,
              "ticks": ""
             }
            },
            "type": "parcoords"
           }
          ],
          "pie": [
           {
            "automargin": true,
            "type": "pie"
           }
          ],
          "scatter": [
           {
            "fillpattern": {
             "fillmode": "overlay",
             "size": 10,
             "solidity": 0.2
            },
            "type": "scatter"
           }
          ],
          "scatter3d": [
           {
            "line": {
             "colorbar": {
              "outlinewidth": 0,
              "ticks": ""
             }
            },
            "marker": {
             "colorbar": {
              "outlinewidth": 0,
              "ticks": ""
             }
            },
            "type": "scatter3d"
           }
          ],
          "scattercarpet": [
           {
            "marker": {
             "colorbar": {
              "outlinewidth": 0,
              "ticks": ""
             }
            },
            "type": "scattercarpet"
           }
          ],
          "scattergeo": [
           {
            "marker": {
             "colorbar": {
              "outlinewidth": 0,
              "ticks": ""
             }
            },
            "type": "scattergeo"
           }
          ],
          "scattergl": [
           {
            "marker": {
             "colorbar": {
              "outlinewidth": 0,
              "ticks": ""
             }
            },
            "type": "scattergl"
           }
          ],
          "scattermapbox": [
           {
            "marker": {
             "colorbar": {
              "outlinewidth": 0,
              "ticks": ""
             }
            },
            "type": "scattermapbox"
           }
          ],
          "scatterpolar": [
           {
            "marker": {
             "colorbar": {
              "outlinewidth": 0,
              "ticks": ""
             }
            },
            "type": "scatterpolar"
           }
          ],
          "scatterpolargl": [
           {
            "marker": {
             "colorbar": {
              "outlinewidth": 0,
              "ticks": ""
             }
            },
            "type": "scatterpolargl"
           }
          ],
          "scatterternary": [
           {
            "marker": {
             "colorbar": {
              "outlinewidth": 0,
              "ticks": ""
             }
            },
            "type": "scatterternary"
           }
          ],
          "surface": [
           {
            "colorbar": {
             "outlinewidth": 0,
             "ticks": ""
            },
            "colorscale": [
             [
              0,
              "#0d0887"
             ],
             [
              0.1111111111111111,
              "#46039f"
             ],
             [
              0.2222222222222222,
              "#7201a8"
             ],
             [
              0.3333333333333333,
              "#9c179e"
             ],
             [
              0.4444444444444444,
              "#bd3786"
             ],
             [
              0.5555555555555556,
              "#d8576b"
             ],
             [
              0.6666666666666666,
              "#ed7953"
             ],
             [
              0.7777777777777778,
              "#fb9f3a"
             ],
             [
              0.8888888888888888,
              "#fdca26"
             ],
             [
              1,
              "#f0f921"
             ]
            ],
            "type": "surface"
           }
          ],
          "table": [
           {
            "cells": {
             "fill": {
              "color": "#EBF0F8"
             },
             "line": {
              "color": "white"
             }
            },
            "header": {
             "fill": {
              "color": "#C8D4E3"
             },
             "line": {
              "color": "white"
             }
            },
            "type": "table"
           }
          ]
         },
         "layout": {
          "annotationdefaults": {
           "arrowcolor": "#2a3f5f",
           "arrowhead": 0,
           "arrowwidth": 1
          },
          "autotypenumbers": "strict",
          "coloraxis": {
           "colorbar": {
            "outlinewidth": 0,
            "ticks": ""
           }
          },
          "colorscale": {
           "diverging": [
            [
             0,
             "#8e0152"
            ],
            [
             0.1,
             "#c51b7d"
            ],
            [
             0.2,
             "#de77ae"
            ],
            [
             0.3,
             "#f1b6da"
            ],
            [
             0.4,
             "#fde0ef"
            ],
            [
             0.5,
             "#f7f7f7"
            ],
            [
             0.6,
             "#e6f5d0"
            ],
            [
             0.7,
             "#b8e186"
            ],
            [
             0.8,
             "#7fbc41"
            ],
            [
             0.9,
             "#4d9221"
            ],
            [
             1,
             "#276419"
            ]
           ],
           "sequential": [
            [
             0,
             "#0d0887"
            ],
            [
             0.1111111111111111,
             "#46039f"
            ],
            [
             0.2222222222222222,
             "#7201a8"
            ],
            [
             0.3333333333333333,
             "#9c179e"
            ],
            [
             0.4444444444444444,
             "#bd3786"
            ],
            [
             0.5555555555555556,
             "#d8576b"
            ],
            [
             0.6666666666666666,
             "#ed7953"
            ],
            [
             0.7777777777777778,
             "#fb9f3a"
            ],
            [
             0.8888888888888888,
             "#fdca26"
            ],
            [
             1,
             "#f0f921"
            ]
           ],
           "sequentialminus": [
            [
             0,
             "#0d0887"
            ],
            [
             0.1111111111111111,
             "#46039f"
            ],
            [
             0.2222222222222222,
             "#7201a8"
            ],
            [
             0.3333333333333333,
             "#9c179e"
            ],
            [
             0.4444444444444444,
             "#bd3786"
            ],
            [
             0.5555555555555556,
             "#d8576b"
            ],
            [
             0.6666666666666666,
             "#ed7953"
            ],
            [
             0.7777777777777778,
             "#fb9f3a"
            ],
            [
             0.8888888888888888,
             "#fdca26"
            ],
            [
             1,
             "#f0f921"
            ]
           ]
          },
          "colorway": [
           "#636efa",
           "#EF553B",
           "#00cc96",
           "#ab63fa",
           "#FFA15A",
           "#19d3f3",
           "#FF6692",
           "#B6E880",
           "#FF97FF",
           "#FECB52"
          ],
          "font": {
           "color": "#2a3f5f"
          },
          "geo": {
           "bgcolor": "white",
           "lakecolor": "white",
           "landcolor": "#E5ECF6",
           "showlakes": true,
           "showland": true,
           "subunitcolor": "white"
          },
          "hoverlabel": {
           "align": "left"
          },
          "hovermode": "closest",
          "mapbox": {
           "style": "light"
          },
          "paper_bgcolor": "white",
          "plot_bgcolor": "#E5ECF6",
          "polar": {
           "angularaxis": {
            "gridcolor": "white",
            "linecolor": "white",
            "ticks": ""
           },
           "bgcolor": "#E5ECF6",
           "radialaxis": {
            "gridcolor": "white",
            "linecolor": "white",
            "ticks": ""
           }
          },
          "scene": {
           "xaxis": {
            "backgroundcolor": "#E5ECF6",
            "gridcolor": "white",
            "gridwidth": 2,
            "linecolor": "white",
            "showbackground": true,
            "ticks": "",
            "zerolinecolor": "white"
           },
           "yaxis": {
            "backgroundcolor": "#E5ECF6",
            "gridcolor": "white",
            "gridwidth": 2,
            "linecolor": "white",
            "showbackground": true,
            "ticks": "",
            "zerolinecolor": "white"
           },
           "zaxis": {
            "backgroundcolor": "#E5ECF6",
            "gridcolor": "white",
            "gridwidth": 2,
            "linecolor": "white",
            "showbackground": true,
            "ticks": "",
            "zerolinecolor": "white"
           }
          },
          "shapedefaults": {
           "line": {
            "color": "#2a3f5f"
           }
          },
          "ternary": {
           "aaxis": {
            "gridcolor": "white",
            "linecolor": "white",
            "ticks": ""
           },
           "baxis": {
            "gridcolor": "white",
            "linecolor": "white",
            "ticks": ""
           },
           "bgcolor": "#E5ECF6",
           "caxis": {
            "gridcolor": "white",
            "linecolor": "white",
            "ticks": ""
           }
          },
          "title": {
           "x": 0.05
          },
          "xaxis": {
           "automargin": true,
           "gridcolor": "white",
           "linecolor": "white",
           "ticks": "",
           "title": {
            "standoff": 15
           },
           "zerolinecolor": "white",
           "zerolinewidth": 2
          },
          "yaxis": {
           "automargin": true,
           "gridcolor": "white",
           "linecolor": "white",
           "ticks": "",
           "title": {
            "standoff": 15
           },
           "zerolinecolor": "white",
           "zerolinewidth": 2
          }
         }
        },
        "xaxis": {
         "anchor": "y",
         "domain": [
          0,
          1
         ],
         "title": {
          "text": "Tempo"
         }
        },
        "yaxis": {
         "anchor": "x",
         "domain": [
          0,
          1
         ],
         "title": {
          "text": "Valor"
         }
        }
       }
      }
     },
     "metadata": {},
     "output_type": "display_data"
    }
   ],
   "source": [
    "fig"
   ]
  },
  {
   "cell_type": "code",
   "execution_count": 161,
   "metadata": {},
   "outputs": [],
   "source": [
    "yout2, T2 = control.step_response(Gz)"
   ]
  },
  {
   "cell_type": "code",
   "execution_count": 162,
   "metadata": {},
   "outputs": [
    {
     "data": {
      "text/plain": [
       "[<matplotlib.lines.Line2D at 0x7f7f2e52c550>]"
      ]
     },
     "execution_count": 162,
     "metadata": {},
     "output_type": "execute_result"
    },
    {
     "data": {
      "image/png": "[encoded data removed]",
      "text/plain": [
       "<Figure size 640x480 with 1 Axes>"
      ]
     },
     "metadata": {},
     "output_type": "display_data"
    }
   ],
   "source": [
    "plt.plot(yout2, T2)"
   ]
  },
  {
   "cell_type": "markdown",
   "metadata": {},
   "source": [
    "Exercicio 2"
   ]
  },
  {
   "cell_type": "code",
   "execution_count": 163,
   "metadata": {},
   "outputs": [
    {
     "data": {
      "text/latex": [
       "$$\\frac{1}{2 s + 1}$$"
      ],
      "text/plain": [
       "TransferFunction(array([1]), array([2, 1]))"
      ]
     },
     "execution_count": 163,
     "metadata": {},
     "output_type": "execute_result"
    }
   ],
   "source": [
    "Gs = control.TransferFunction([1], [2,1])\n",
    "Gs"
   ]
  },
  {
   "cell_type": "code",
   "execution_count": 164,
   "metadata": {},
   "outputs": [
    {
     "data": {
      "text/latex": [
       "$$\\frac{0.04877}{z - 0.9512}\\quad dt = 0.1$$"
      ],
      "text/plain": [
       "TransferFunction(array([0.04877058]), array([ 1.        , -0.95122942]), 0.1)"
      ]
     },
     "execution_count": 164,
     "metadata": {},
     "output_type": "execute_result"
    }
   ],
   "source": [
    "Ts = 0.1\n",
    "Gz = control.sample_system(Gs, Ts, 'zoh')\n",
    "Gz"
   ]
  },
  {
   "cell_type": "code",
   "execution_count": 165,
   "metadata": {},
   "outputs": [],
   "source": [
    "import harold"
   ]
  },
  {
   "cell_type": "code",
   "execution_count": 166,
   "metadata": {},
   "outputs": [
    {
     "data": {
      "text/plain": [
       "Continuous-Time Transfer function\n",
       " 1 input and 1 output\n",
       "\n",
       "  Poles(real)    Poles(imag)  Zeros(real)    Zeros(imag)\n",
       "-------------  -------------  -------------  -------------\n",
       "         -0.5              0\n"
      ]
     },
     "execution_count": 166,
     "metadata": {},
     "output_type": "execute_result"
    }
   ],
   "source": [
    "Gs1 = harold.Transfer([1], [2,1])\n",
    "Gs1"
   ]
  },
  {
   "cell_type": "code",
   "execution_count": 167,
   "metadata": {},
   "outputs": [],
   "source": [
    "Gz1 = harold.discretize(Gs1, Ts, method = 'zoh')"
   ]
  },
  {
   "cell_type": "code",
   "execution_count": 168,
   "metadata": {},
   "outputs": [
    {
     "data": {
      "text/plain": [
       "array([-0.02499479,  0.49989586])"
      ]
     },
     "execution_count": 168,
     "metadata": {},
     "output_type": "execute_result"
    }
   ],
   "source": [
    "Gw1 = harold.undiscretize(Gz1, method = 'tustin')\n",
    "Gw1.num[0][:]"
   ]
  },
  {
   "cell_type": "code",
   "execution_count": 169,
   "metadata": {},
   "outputs": [
    {
     "data": {
      "text/latex": [
       "$$\\frac{-0.02499 s + 0.4999}{s + 0.4999}$$"
      ],
      "text/plain": [
       "TransferFunction(array([-0.02499479,  0.49989586]), array([1.        , 0.49989586]))"
      ]
     },
     "execution_count": 169,
     "metadata": {},
     "output_type": "execute_result"
    }
   ],
   "source": [
    "Gw = control.TransferFunction(Gw1.num[0], Gw1.den[0])\n",
    "Gw"
   ]
  },
  {
   "cell_type": "code",
   "execution_count": 170,
   "metadata": {},
   "outputs": [],
   "source": [
    "youtS, TS = control.step_response(Gs)"
   ]
  },
  {
   "cell_type": "code",
   "execution_count": 171,
   "metadata": {},
   "outputs": [],
   "source": [
    "youtZ, TZ = control.step_response(Gz)"
   ]
  },
  {
   "cell_type": "code",
   "execution_count": 172,
   "metadata": {},
   "outputs": [],
   "source": [
    "youtW, TW = control.step_response(Gw)"
   ]
  },
  {
   "cell_type": "code",
   "execution_count": 173,
   "metadata": {},
   "outputs": [
    {
     "data": {
      "text/plain": [
       "[<matplotlib.lines.Line2D at 0x7f7f2c22dcc0>]"
      ]
     },
     "execution_count": 173,
     "metadata": {},
     "output_type": "execute_result"
    },
    {
     "data": {
      "image/png": "[encoded data removed]",
      "text/plain": [
       "<Figure size 640x480 with 1 Axes>"
      ]
     },
     "metadata": {},
     "output_type": "display_data"
    }
   ],
   "source": [
    "plt.plot(youtS, TS)\n",
    "plt.plot(youtZ, TZ)\n",
    "plt.plot(youtW, TW)"
   ]
  },
  {
   "cell_type": "code",
   "execution_count": 174,
   "metadata": {
    "scrolled": true
   },
   "outputs": [
    {
     "data": {
      "text/plain": [
       "<matplotlib.legend.Legend at 0x7f7f2c374760>"
      ]
     },
     "execution_count": 174,
     "metadata": {},
     "output_type": "execute_result"
    },
    {
     "data": {
      "image/png": "[encoded data removed]",
      "text/plain": [
       "<Figure size 640x480 with 2 Axes>"
      ]
     },
     "metadata": {},
     "output_type": "display_data"
    }
   ],
   "source": [
    "control.bode_plot(Gs, label = \"Modelo S\");\n",
    "control.bode_plot(Gz, label = \"Modelo Z\");\n",
    "control.bode_plot(Gw, label = \"Modelo W\");\n",
    "plt.legend()"
   ]
  },
  {
   "cell_type": "code",
   "execution_count": 175,
   "metadata": {},
   "outputs": [
    {
     "name": "stdout",
     "output_type": "stream",
     "text": [
      "Margem de ganho:  inf\n",
      "Margem de fase:  inf graus\n",
      "Frequência associada com a margem de ganho:  nan Rad/seg\n",
      "Frequência associada com a margem de fase:  nan Rad/seg\n"
     ]
    }
   ],
   "source": [
    "gm, pm, wcg, wcp = control.margin(Gw)\n",
    "print('Margem de ganho: ', gm)\n",
    "print('Margem de fase: ', str(pm) + ' graus')\n",
    "print('Frequência associada com a margem de ganho: ', str(wcg) + ' Rad/seg')\n",
    "print('Frequência associada com a margem de fase: ', str(wcp) + ' Rad/seg')"
   ]
  },
  {
   "cell_type": "code",
   "execution_count": 176,
   "metadata": {},
   "outputs": [
    {
     "data": {
      "text/plain": [
       "10.926049796875809"
      ]
     },
     "execution_count": 176,
     "metadata": {},
     "output_type": "execute_result"
    }
   ],
   "source": [
    "ww = 2/Ts * math.tan((10*Ts)/2)\n",
    "ww"
   ]
  },
  {
   "cell_type": "code",
   "execution_count": 177,
   "metadata": {},
   "outputs": [],
   "source": [
    "magJW, phase, omega = control.bode(Gw, dB =False,omega = ww, plot=False)"
   ]
  },
  {
   "cell_type": "code",
   "execution_count": 178,
   "metadata": {},
   "outputs": [
    {
     "data": {
      "image/png": "[encoded data removed]",
      "text/plain": [
       "<Figure size 640x480 with 2 Axes>"
      ]
     },
     "metadata": {},
     "output_type": "display_data"
    }
   ],
   "source": [
    "control.bode(Gw, dB =True);"
   ]
  },
  {
   "cell_type": "code",
   "execution_count": 179,
   "metadata": {},
   "outputs": [
    {
     "data": {
      "text/plain": [
       "array([-116.02828234])"
      ]
     },
     "execution_count": 179,
     "metadata": {},
     "output_type": "execute_result"
    }
   ],
   "source": [
    "phase * (180 / 3.14159265)"
   ]
  },
  {
   "cell_type": "code",
   "execution_count": 180,
   "metadata": {},
   "outputs": [
    {
     "data": {
      "text/plain": [
       "array([0.0520804])"
      ]
     },
     "execution_count": 180,
     "metadata": {},
     "output_type": "execute_result"
    }
   ],
   "source": [
    "magJW"
   ]
  },
  {
   "cell_type": "code",
   "execution_count": 181,
   "metadata": {},
   "outputs": [
    {
     "data": {
      "text/plain": [
       "10.926049796875809"
      ]
     },
     "execution_count": 181,
     "metadata": {},
     "output_type": "execute_result"
    }
   ],
   "source": [
    "ww"
   ]
  },
  {
   "cell_type": "code",
   "execution_count": 182,
   "metadata": {},
   "outputs": [],
   "source": [
    "from math import pi"
   ]
  },
  {
   "cell_type": "code",
   "execution_count": 183,
   "metadata": {},
   "outputs": [
    {
     "data": {
      "text/plain": [
       "-18.97171766320092"
      ]
     },
     "execution_count": 183,
     "metadata": {},
     "output_type": "execute_result"
    }
   ],
   "source": [
    "phi = -180 + 45 - (phase[0] * (180 / 3.14159265))\n",
    "phi"
   ]
  },
  {
   "cell_type": "code",
   "execution_count": 184,
   "metadata": {},
   "outputs": [
    {
     "data": {
      "text/plain": [
       "18.158063203608588"
      ]
     },
     "execution_count": 184,
     "metadata": {},
     "output_type": "execute_result"
    }
   ],
   "source": [
    "Kp = math.cos(phi * (math.pi)/180) / (magJW[0])\n",
    "Kp"
   ]
  },
  {
   "cell_type": "code",
   "execution_count": 185,
   "metadata": {},
   "outputs": [
    {
     "data": {
      "text/plain": [
       "68.20366314639502"
      ]
     },
     "execution_count": 185,
     "metadata": {},
     "output_type": "execute_result"
    }
   ],
   "source": [
    "Ki = - ww * (math.sin(phi * (math.pi)/180)/(magJW[0]))\n",
    "Ki"
   ]
  },
  {
   "cell_type": "code",
   "execution_count": 186,
   "metadata": {},
   "outputs": [
    {
     "data": {
      "text/latex": [
       "$$\\frac{18.16}{1}$$"
      ],
      "text/plain": [
       "TransferFunction(array([18.1580632]), array([1]))"
      ]
     },
     "execution_count": 186,
     "metadata": {},
     "output_type": "execute_result"
    }
   ],
   "source": [
    "P = control.TransferFunction([Kp], 1)\n",
    "P"
   ]
  },
  {
   "cell_type": "code",
   "execution_count": 187,
   "metadata": {},
   "outputs": [
    {
     "data": {
      "text/latex": [
       "$$\\frac{68.2}{s}$$"
      ],
      "text/plain": [
       "TransferFunction(array([68.20366315]), array([1, 0]))"
      ]
     },
     "execution_count": 187,
     "metadata": {},
     "output_type": "execute_result"
    }
   ],
   "source": [
    "I  = control.TransferFunction(Ki, [1, 0])\n",
    "I"
   ]
  },
  {
   "cell_type": "code",
   "execution_count": 188,
   "metadata": {},
   "outputs": [
    {
     "data": {
      "text/latex": [
       "$$\\frac{18.16 s + 68.2}{s}$$"
      ],
      "text/plain": [
       "TransferFunction(array([18.1580632 , 68.20366315]), array([1, 0]))"
      ]
     },
     "execution_count": 188,
     "metadata": {},
     "output_type": "execute_result"
    }
   ],
   "source": [
    "PI = P + I\n",
    "PI"
   ]
  },
  {
   "cell_type": "code",
   "execution_count": 189,
   "metadata": {},
   "outputs": [],
   "source": [
    "y, T = control.step_response(control.feedback(control.series(Gw, PI)))"
   ]
  },
  {
   "cell_type": "code",
   "execution_count": 194,
   "metadata": {},
   "outputs": [
    {
     "data": {
      "text/plain": [
       "Text(0.5, 1.0, 'Resposta do sistema controlado')"
      ]
     },
     "execution_count": 194,
     "metadata": {},
     "output_type": "execute_result"
    },
    {
     "data": {
      "image/png": "[encoded data removed]",
      "text/plain": [
       "<Figure size 640x480 with 1 Axes>"
      ]
     },
     "metadata": {},
     "output_type": "display_data"
    }
   ],
   "source": [
    "plt.plot(y,T)\n",
    "plt.grid()\n",
    "plt.title(\"Resposta do sistema controlado\")"
   ]
  },
  {
   "cell_type": "code",
   "execution_count": 228,
   "metadata": {},
   "outputs": [],
   "source": [
    "Temp = np.arange(0, 15, 0.001)"
   ]
  },
  {
   "cell_type": "code",
   "execution_count": 221,
   "metadata": {},
   "outputs": [
    {
     "data": {
      "text/latex": [
       "$$\\frac{1}{2 s + 1}$$"
      ],
      "text/plain": [
       "TransferFunction(array([1]), array([2, 1]))"
      ]
     },
     "execution_count": 221,
     "metadata": {},
     "output_type": "execute_result"
    }
   ],
   "source": [
    "Gs"
   ]
  },
  {
   "cell_type": "code",
   "execution_count": 229,
   "metadata": {},
   "outputs": [],
   "source": [
    "yout2, T2 = control.step_response(control.feedback(Gs), T = Temp)"
   ]
  },
  {
   "cell_type": "code",
   "execution_count": 230,
   "metadata": {},
   "outputs": [],
   "source": [
    "y, T = control.step_response(control.feedback(control.series(Gw, PI)), T = Temp)"
   ]
  },
  {
   "cell_type": "code",
   "execution_count": 231,
   "metadata": {},
   "outputs": [
    {
     "data": {
      "image/png": "[encoded data removed]",
      "text/plain": [
       "<Figure size 640x480 with 1 Axes>"
      ]
     },
     "metadata": {},
     "output_type": "display_data"
    }
   ],
   "source": [
    "plt.plot(y,T, label = \"Resposta do sistema controlado\")\n",
    "plt.plot(yout2, T2, label = 'Sistema sem controle')\n",
    "plt.legend()\n",
    "plt.grid()"
   ]
  },
  {
   "cell_type": "code",
   "execution_count": 191,
   "metadata": {},
   "outputs": [
    {
     "data": {
      "text/plain": [
       "<Figure size 640x480 with 0 Axes>"
      ]
     },
     "metadata": {},
     "output_type": "display_data"
    }
   ],
   "source": [
    "plt.clf()"
   ]
  },
  {
   "cell_type": "code",
   "execution_count": 192,
   "metadata": {},
   "outputs": [
    {
     "data": {
      "image/png": "[encoded data removed]",
      "text/plain": [
       "<Figure size 640x480 with 2 Axes>"
      ]
     },
     "metadata": {},
     "output_type": "display_data"
    }
   ],
   "source": [
    "control.bode(control.series(Gw, PI), label = 'Sistema controlado');\n",
    "plt.legend()\n",
    "plt.show()"
   ]
  },
  {
   "cell_type": "code",
   "execution_count": 193,
   "metadata": {},
   "outputs": [
    {
     "name": "stdout",
     "output_type": "stream",
     "text": [
      "Margem de ganho:  inf\n",
      "Margem de fase:  45.00000013258162 graus\n",
      "Frequência associada com a margem de ganho:  nan Rad/seg\n",
      "Frequência associada com a margem de fase:  10.926049796875812 Rad/seg\n"
     ]
    }
   ],
   "source": [
    "gm, pm, wcg, wcp = control.margin(control.series(Gw, PI))\n",
    "print('Margem de ganho: ', gm)\n",
    "print('Margem de fase: ', str(pm) + ' graus')\n",
    "print('Frequência associada com a margem de ganho: ', str(wcg) + ' Rad/seg')\n",
    "print('Frequência associada com a margem de fase: ', str(wcp) + ' Rad/seg')"
   ]
  },
  {
   "cell_type": "code",
   "execution_count": 232,
   "metadata": {},
   "outputs": [
    {
     "data": {
      "text/latex": [
       "$$\\frac{18.16 z - 11.34}{z - 1}\\quad dt = 0.1$$"
      ],
      "text/plain": [
       "TransferFunction(array([ 18.1580632 , -11.33769689]), array([ 1., -1.]), 0.1)"
      ]
     },
     "execution_count": 232,
     "metadata": {},
     "output_type": "execute_result"
    }
   ],
   "source": [
    "PIz = control.sample_system(PI, Ts)\n",
    "PIz"
   ]
  },
  {
   "cell_type": "code",
   "execution_count": 233,
   "metadata": {},
   "outputs": [
    {
     "data": {
      "text/latex": [
       "$$\\frac{0.04877}{z - 0.9512}\\quad dt = 0.1$$"
      ],
      "text/plain": [
       "TransferFunction(array([0.04877058]), array([ 1.        , -0.95122942]), 0.1)"
      ]
     },
     "execution_count": 233,
     "metadata": {},
     "output_type": "execute_result"
    }
   ],
   "source": [
    "Gz"
   ]
  },
  {
   "cell_type": "code",
   "execution_count": 234,
   "metadata": {},
   "outputs": [],
   "source": [
    "y2, T = control.step_response(control.feedback(control.series(Gz, PIz)))"
   ]
  },
  {
   "cell_type": "code",
   "execution_count": 241,
   "metadata": {},
   "outputs": [],
   "source": [
    "y, T2 = control.step_response(control.feedback(control.series(Gw, PI)), T = np.arange(0, 5, 0.001))"
   ]
  },
  {
   "cell_type": "code",
   "execution_count": 236,
   "metadata": {},
   "outputs": [
    {
     "data": {
      "text/plain": [
       "Text(0.5, 1.0, 'Resposta do sistema controlado e discretizado')"
      ]
     },
     "execution_count": 236,
     "metadata": {},
     "output_type": "execute_result"
    },
    {
     "data": {
      "image/png": "[encoded data removed]",
      "text/plain": [
       "<Figure size 640x480 with 1 Axes>"
      ]
     },
     "metadata": {},
     "output_type": "display_data"
    }
   ],
   "source": [
    "plt.plot(y2, T)\n",
    "plt.grid()\n",
    "plt.title(\"Resposta do sistema controlado e discretizado\")"
   ]
  },
  {
   "cell_type": "code",
   "execution_count": 244,
   "metadata": {},
   "outputs": [
    {
     "data": {
      "text/plain": [
       "<matplotlib.legend.Legend at 0x7f7f27a92650>"
      ]
     },
     "execution_count": 244,
     "metadata": {},
     "output_type": "execute_result"
    },
    {
     "data": {
      "image/png": "[encoded data removed]",
      "text/plain": [
       "<Figure size 640x480 with 1 Axes>"
      ]
     },
     "metadata": {},
     "output_type": "display_data"
    }
   ],
   "source": [
    "plt.plot(y2, T, label = \"Resposta do sistema controlado e discretizado\")\n",
    "plt.plot(y,T2, label = \"Resposta do sistema controlado em s\")\n",
    "plt.grid()\n",
    "plt.legend()"
   ]
  }
 ],
 "metadata": {
  "kernelspec": {
   "display_name": "Python 3 (ipykernel)",
   "language": "python",
   "name": "python3"
  },
  "language_info": {
   "codemirror_mode": {
    "name": "ipython",
    "version": 3
   },
   "file_extension": ".py",
   "mimetype": "text/x-python",
   "name": "python",
   "nbconvert_exporter": "python",
   "pygments_lexer": "ipython3",
   "version": "3.10.6"
  },
  "vscode": {
   "interpreter": {
    "hash": "31f2aee4e71d21fbe5cf8b01ff0e069b9275f58929596ceb00d14d90e3e16cd6"
   }
  }
 },
 "nbformat": 4,
 "nbformat_minor": 2
}

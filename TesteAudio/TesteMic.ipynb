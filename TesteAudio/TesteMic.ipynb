{
 "cells": [
  {
   "cell_type": "code",
   "execution_count": 1,
   "metadata": {},
   "outputs": [],
   "source": [
    "import pyaudio"
   ]
  },
  {
   "cell_type": "code",
   "execution_count": 2,
   "metadata": {},
   "outputs": [],
   "source": [
    "import wave"
   ]
  },
  {
   "cell_type": "code",
   "execution_count": 3,
   "metadata": {},
   "outputs": [],
   "source": [
    "Frames_per_buffer = 3200\n",
    "FORMAT = pyaudio.paInt16\n",
    "CHANNELS = 1\n",
    "RATE = 16000"
   ]
  },
  {
   "cell_type": "code",
   "execution_count": 4,
   "metadata": {},
   "outputs": [],
   "source": [
    "p = pyaudio.PyAudio()"
   ]
  },
  {
   "cell_type": "code",
   "execution_count": 5,
   "metadata": {},
   "outputs": [],
   "source": [
    "stream = p.open(\n",
    "    format= FORMAT,\n",
    "    channels=CHANNELS,\n",
    "    rate=RATE,\n",
    "    input=True,\n",
    "    frames_per_buffer=Frames_per_buffer\n",
    ")"
   ]
  },
  {
   "cell_type": "code",
   "execution_count": 7,
   "metadata": {},
   "outputs": [
    {
     "name": "stdout",
     "output_type": "stream",
     "text": [
      "Gravando\n"
     ]
    }
   ],
   "source": [
    "print(\"Gravando\")\n",
    "seconds = 5\n",
    "frames = []\n",
    "\n",
    "for i in range(0, int((RATE/Frames_per_buffer)*seconds)):\n",
    "    data = stream.read(Frames_per_buffer)\n",
    "    frames.append(data)\n",
    "\n",
    "stream.stop_stream()\n",
    "stream.close()"
   ]
  },
  {
   "cell_type": "code",
   "execution_count": 8,
   "metadata": {},
   "outputs": [],
   "source": [
    "import matplotlib.pyplot as plt"
   ]
  },
  {
   "cell_type": "code",
   "execution_count": 12,
   "metadata": {},
   "outputs": [
    {
     "ename": "ValueError",
     "evalue": "invalid literal for int() with base 10: b'}\\xff\\xa9\\x00\\x1e\\xffI\\x01\\xb1\\xfd|\\t\\xc5\\x1f{\\x1bV\\x1c\\xa9\\x1b\\xda\\x1b\\xba\\x1b\\xd9\\x1b\\xc0\\x1b\\xad\\x1b\\xd3\\x1b\\xb0\\x1b\\xc4\\x1b\\xa1\\x1b\\xbc\\x1b\\xa1\\x1b\\xd6\\x1b\\xaf\\x1b\\xc0\\x1b\\xbd\\x1b\\xce\\x1b\\xbf\\x1",
     "output_type": "error",
     "traceback": [
      "\u001b[1;31m---------------------------------------------------------------------------\u001b[0m",
      "\u001b[1;31mValueError\u001b[0m                                Traceback (most recent call last)",
      "\u001b[1;32md:\\Mestrado Unifei\\1º Semestre (2022.2)\\PCO119 - PROCESSAMENTO DIGITAL DE SINAIS E CONTROLE\\PCO119\\TesteAudio\\TesteMic.ipynb Célula: 8\u001b[0m in \u001b[0;36m<cell line: 1>\u001b[1;34m()\u001b[0m\n\u001b[1;32m----> <a href='vscode-notebook-cell:/d%3A/Mestrado%20Unifei/1%C2%BA%20Semestre%20%282022.2%29/PCO119%20-%20PROCESSAMENTO%20DIGITAL%20DE%20SINAIS%20E%20CONTROLE/PCO119/TesteAudio/TesteMic.ipynb#X12sZmlsZQ%3D%3D?line=0'>1</a>\u001b[0m \u001b[39mint\u001b[39;49m(frames[\u001b[39m0\u001b[39;49m])\n",
      "\u001b[1;31mValueError\u001b[0m: invalid literal for int() with base 10: b'}\\xff\\xa9\\x00\\x1e\\xffI\\x01\\xb1\\xfd|\\t\\xc5\\x1f{\\x1bV\\x1c\\xa9\\x1b\\xda\\x1b\\xba\\x1b\\xd9\\x1b\\xc0\\x1b\\xad\\x1b\\xd3\\x1b\\xb0\\x1b\\xc4\\x1b\\xa1\\x1b\\xbc\\x1b\\xa1\\x1b\\xd6\\x1b\\xaf\\x1b\\xc0\\x1b\\xbd\\x1b\\xce\\x1b\\xbf\\x1"
     ]
    }
   ],
   "source": [
    "int(frames[0])"
   ]
  },
  {
   "cell_type": "code",
   "execution_count": null,
   "metadata": {},
   "outputs": [],
   "source": [
    "plt.plot(frames)"
   ]
  },
  {
   "cell_type": "code",
   "execution_count": 13,
   "metadata": {},
   "outputs": [],
   "source": [
    "p.terminate()"
   ]
  }
 ],
 "metadata": {
  "kernelspec": {
   "display_name": "Python 3.10.4 64-bit",
   "language": "python",
   "name": "python3"
  },
  "language_info": {
   "codemirror_mode": {
    "name": "ipython",
    "version": 3
   },
   "file_extension": ".py",
   "mimetype": "text/x-python",
   "name": "python",
   "nbconvert_exporter": "python",
   "pygments_lexer": "ipython3",
   "version": "3.10.4"
  },
  "orig_nbformat": 4,
  "vscode": {
   "interpreter": {
    "hash": "f422de39ad8f94a2b1af68056cae06c46fbf51cf3a4f51c27b75f93c1047fc34"
   }
  }
 },
 "nbformat": 4,
 "nbformat_minor": 2
}

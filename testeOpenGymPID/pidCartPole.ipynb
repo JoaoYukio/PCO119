{
 "cells": [
  {
   "cell_type": "code",
   "execution_count": null,
   "metadata": {},
   "outputs": [],
   "source": [
    "import gym\n",
    "from matplotlib import pyplot as plt\n",
    "env = gym.make(\"CartPole-v1\")\n",
    "observation = env.reset()"
   ]
  },
  {
   "cell_type": "code",
   "execution_count": 4,
   "metadata": {},
   "outputs": [],
   "source": [
    "Kp = 135\n",
    "Ki = 96.5\n",
    "Kd = 47.5\n",
    "\n",
    "force = 0\n",
    "integral = 0\n",
    "for _ in range(1000):\n",
    "  env.render()\n",
    "\n",
    "  observation, reward, terminated, info, done = env.step(force)\n",
    "\n",
    "  velocity = observation[1]\n",
    "  angle = observation[2]\n",
    "  angular_velocity = observation[3]\n",
    "\n",
    "  integral = integral + angle\n",
    "\n",
    "  F = Kp*(angle) + Kd*(angular_velocity) + Ki*(integral)\n",
    "\n",
    "  force = 1 if F > 0 else 0\n",
    "  if done:\n",
    "    observation = env.reset()\n",
    "    integral = 0\n",
    "env.close()"
   ]
  }
 ],
 "metadata": {
  "kernelspec": {
   "display_name": "Python 3.10.4 64-bit",
   "language": "python",
   "name": "python3"
  },
  "language_info": {
   "codemirror_mode": {
    "name": "ipython",
    "version": 3
   },
   "file_extension": ".py",
   "mimetype": "text/x-python",
   "name": "python",
   "nbconvert_exporter": "python",
   "pygments_lexer": "ipython3",
   "version": "3.10.4"
  },
  "orig_nbformat": 4,
  "vscode": {
   "interpreter": {
    "hash": "f422de39ad8f94a2b1af68056cae06c46fbf51cf3a4f51c27b75f93c1047fc34"
   }
  }
 },
 "nbformat": 4,
 "nbformat_minor": 2
}

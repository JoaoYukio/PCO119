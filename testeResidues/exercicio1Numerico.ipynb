{
 "cells": [
  {
   "cell_type": "code",
   "execution_count": 2,
   "metadata": {},
   "outputs": [],
   "source": [
    "import control\n",
    "import scipy\n",
    "from scipy import signal"
   ]
  },
  {
   "cell_type": "code",
   "execution_count": 3,
   "metadata": {},
   "outputs": [
    {
     "data": {
      "text/latex": [
       "$$\\frac{5}{s^3 + 3 s^2 + 4 s}$$"
      ],
      "text/plain": [
       "TransferFunction(array([5]), array([1, 3, 4, 0]))"
      ]
     },
     "execution_count": 3,
     "metadata": {},
     "output_type": "execute_result"
    }
   ],
   "source": [
    "num, den = [5],[1,3,4,0]\n",
    "Ys = control.TransferFunction(num, den)\n",
    "Ys"
   ]
  },
  {
   "cell_type": "code",
   "execution_count": 4,
   "metadata": {},
   "outputs": [],
   "source": [
    "res1 = signal.residue(num, den)"
   ]
  },
  {
   "cell_type": "code",
   "execution_count": 5,
   "metadata": {},
   "outputs": [
    {
     "data": {
      "text/plain": [
       "(array([ 1.25 +0.j        , -0.625+0.70868339j, -0.625-0.70868339j]),\n",
       " array([ 0. +0.j        , -1.5+1.32287566j, -1.5-1.32287566j]),\n",
       " array([], dtype=float64))"
      ]
     },
     "execution_count": 5,
     "metadata": {},
     "output_type": "execute_result"
    }
   ],
   "source": [
    "res1"
   ]
  },
  {
   "cell_type": "code",
   "execution_count": 8,
   "metadata": {},
   "outputs": [],
   "source": [
    "import sympy\n",
    "from sympy import Symbol "
   ]
  },
  {
   "cell_type": "code",
   "execution_count": null,
   "metadata": {},
   "outputs": [],
   "source": [
    "t = Symbol('t')\n",
    "yt = Symbol('yt')\n",
    "e = Symbol('e')"
   ]
  },
  {
   "cell_type": "code",
   "execution_count": null,
   "metadata": {},
   "outputs": [
    {
     "data": {
      "text/latex": [
       "$\\displaystyle e^{t \\left(-1.5 - 1.3228756555323 i\\right)} \\left(-0.625 - 0.708683386892301 i\\right) + e^{t \\left(-1.5 + 1.3228756555323 i\\right)} \\left(-0.625 + 0.708683386892301 i\\right) + 1.25$"
      ],
      "text/plain": [
       "e**(t*(-1.5 - 1.3228756555323*I))*(-0.625 - 0.708683386892301*I) + e**(t*(-1.5 + 1.3228756555323*I))*(-0.625 + 0.708683386892301*I) + 1.25"
      ]
     },
     "execution_count": 8,
     "metadata": {},
     "output_type": "execute_result"
    }
   ],
   "source": [
    "yt = res1[0][0]*e**(res1[1][0]*t) + res1[0][1]*e**(res1[1][1]*t) + res1[0][2]*e**(res1[1][2]*t)\n",
    "yt"
   ]
  },
  {
   "cell_type": "code",
   "execution_count": 49,
   "metadata": {},
   "outputs": [],
   "source": [
    "import numpy as np\n",
    "import cmath\n",
    "yout , T = control.impulse_response(Ys)\n",
    "T1 = np.arange(0, 25, 0.01)\n",
    "res = []\n",
    "\n",
    "for t1 in T1:\n",
    "    yt1 = res1[0][0]*cmath.exp(res1[1][0]*t1) + res1[0][1]*cmath.exp(res1[1][1]*t1) + res1[0][2]*cmath.exp(res1[1][2]*t1)\n",
    "    res.append(yt1)"
   ]
  },
  {
   "cell_type": "code",
   "execution_count": 50,
   "metadata": {},
   "outputs": [],
   "source": [
    "def createVal(T = None):\n",
    "    import math\n",
    "    from math import e, cos, sin, sqrt\n",
    "    res = []\n",
    "    for t in T:\n",
    "        yt = (5/4) - ((5/4)*((e**(-3/2*t)*cos((sqrt(7)/2)*t))+((3/(sqrt(7))*e**((-3/2)*t)*sin((sqrt(7)/2)*t)))))\n",
    "        res.append(yt)\n",
    "    return res"
   ]
  },
  {
   "cell_type": "code",
   "execution_count": 51,
   "metadata": {},
   "outputs": [],
   "source": [
    "yout2 = createVal(T1)"
   ]
  },
  {
   "cell_type": "code",
   "execution_count": 52,
   "metadata": {},
   "outputs": [
    {
     "name": "stderr",
     "output_type": "stream",
     "text": [
      "c:\\Users\\joaov\\AppData\\Local\\Programs\\Python\\Python310\\lib\\site-packages\\matplotlib\\cbook\\__init__.py:1298: ComplexWarning: Casting complex values to real discards the imaginary part\n",
      "  return np.asarray(x, float)\n"
     ]
    },
    {
     "data": {
      "image/png": "[encoded data removed]",
      "text/plain": [
       "<Figure size 432x288 with 3 Axes>"
      ]
     },
     "metadata": {
      "needs_background": "light"
     },
     "output_type": "display_data"
    }
   ],
   "source": [
    "import matplotlib.pyplot as plt\n",
    "plt.subplot(1,3,1)\n",
    "plt.plot(yout, T) \n",
    "plt.xlabel(\"Resposta simulada\", fontsize = 8)\n",
    "plt.grid()\n",
    "#plt.title(\"Resposta simulada\")\n",
    "plt.subplot(1,3,2)\n",
    "plt.plot(T1, res, 'r')\n",
    "plt.xlabel(\"Resposta usando os residuos\", fontsize = 8)\n",
    "plt.title(\"Respostas ao impulso de diferentes metodos\")\n",
    "plt.grid()\n",
    "#plt.title(\"Resposta usando os residuos\")\n",
    "plt.subplot(1,3,3)\n",
    "plt.plot(T1, yout2, 'k')\n",
    "plt.xlabel(\"Resposta usando as contas\", fontsize = 8)\n",
    "plt.grid()\n",
    "#plt.title(\"Resposta usando as contas\")"
   ]
  },
  {
   "cell_type": "code",
   "execution_count": null,
   "metadata": {},
   "outputs": [
    {
     "name": "stderr",
     "output_type": "stream",
     "text": [
      "/home/JoaoYamashita/.local/lib/python3.6/site-packages/numpy/core/_asarray.py:83: ComplexWarning: Casting complex values to real discards the imaginary part\n",
      "  return array(a, dtype, copy=False, order=order)\n"
     ]
    },
    {
     "data": {
      "text/plain": [
       "Text(0.5, 1.0, 'Resposta usando os residuos')"
      ]
     },
     "execution_count": 12,
     "metadata": {},
     "output_type": "execute_result"
    },
    {
     "data": {
      "image/png": "[encoded data removed]",
      "text/plain": [
       "<Figure size 432x288 with 2 Axes>"
      ]
     },
     "metadata": {
      "needs_background": "light"
     },
     "output_type": "display_data"
    }
   ],
   "source": [
    "plt.figure(0)\n",
    "plt.subplot(2,1,1)\n",
    "plt.plot(yout, T)\n",
    "plt.grid()\n",
    "plt.title(\"Resposta simulada\")\n",
    "plt.subplot(2,1,2)\n",
    "plt.plot(T1, res, 'r')\n",
    "plt.grid()\n",
    "plt.title(\"Resposta usando os residuos\")"
   ]
  },
  {
   "cell_type": "code",
   "execution_count": null,
   "metadata": {},
   "outputs": [
    {
     "data": {
      "image/png": "[encoded data removed]",
      "text/plain": [
       "<Figure size 432x288 with 1 Axes>"
      ]
     },
     "metadata": {
      "needs_background": "light"
     },
     "output_type": "display_data"
    }
   ],
   "source": [
    "plt.plot(yout, T)\n",
    "plt.title(\"Resposta simulada\")\n",
    "plt.grid()"
   ]
  },
  {
   "cell_type": "code",
   "execution_count": null,
   "metadata": {},
   "outputs": [
    {
     "name": "stderr",
     "output_type": "stream",
     "text": [
      "/home/JoaoYamashita/.local/lib/python3.6/site-packages/numpy/core/_asarray.py:83: ComplexWarning: Casting complex values to real discards the imaginary part\n",
      "  return array(a, dtype, copy=False, order=order)\n"
     ]
    },
    {
     "data": {
      "image/png": "[encoded data removed]",
      "text/plain": [
       "<Figure size 432x288 with 1 Axes>"
      ]
     },
     "metadata": {
      "needs_background": "light"
     },
     "output_type": "display_data"
    }
   ],
   "source": [
    "plt.figure(1)\n",
    "plt.plot(T1, res, 'r')\n",
    "plt.title(\"Resposta usando os residuos\")\n",
    "plt.grid()"
   ]
  },
  {
   "cell_type": "markdown",
   "metadata": {},
   "source": [
    "Item 3\n",
    "Resposta ao degrau"
   ]
  },
  {
   "cell_type": "code",
   "execution_count": null,
   "metadata": {},
   "outputs": [
    {
     "data": {
      "text/latex": [
       "$$\\frac{5}{s^4 + 3 s^3 + 4 s^2}$$"
      ],
      "text/plain": [
       "TransferFunction(array([5.]), array([1, 3, 4, 0, 0]))"
      ]
     },
     "execution_count": 15,
     "metadata": {},
     "output_type": "execute_result"
    }
   ],
   "source": [
    "Ys2 = control.TransferFunction([1], [1, 0]) * Ys # 1/s * Y(s)\n",
    "Ys2"
   ]
  },
  {
   "cell_type": "code",
   "execution_count": null,
   "metadata": {},
   "outputs": [
    {
     "data": {
      "text/plain": [
       "array([1, 3, 4, 0, 0])"
      ]
     },
     "execution_count": 24,
     "metadata": {},
     "output_type": "execute_result"
    }
   ],
   "source": [
    "Ys2.den[0][0][:]"
   ]
  },
  {
   "cell_type": "code",
   "execution_count": null,
   "metadata": {},
   "outputs": [
    {
     "data": {
      "text/plain": [
       "(array([-0.9375 +0.j        ,  1.25   +0.j        ,  0.46875-0.05905695j,\n",
       "         0.46875+0.05905695j]),\n",
       " array([ 0. +0.j        ,  0. +0.j        , -1.5+1.32287566j,\n",
       "        -1.5-1.32287566j]),\n",
       " array([], dtype=float64))"
      ]
     },
     "execution_count": 26,
     "metadata": {},
     "output_type": "execute_result"
    }
   ],
   "source": [
    "res2 = signal.residue(Ys2.num[0][0][:], Ys2.den[0][0][:])\n",
    "res2"
   ]
  },
  {
   "cell_type": "code",
   "execution_count": null,
   "metadata": {},
   "outputs": [],
   "source": [
    "import sympy\n",
    "from sympy import Symbol \n",
    "\n",
    "t = Symbol('t')\n",
    "yt = Symbol('yt')\n",
    "e = Symbol('e')"
   ]
  },
  {
   "cell_type": "code",
   "execution_count": null,
   "metadata": {},
   "outputs": [
    {
     "data": {
      "text/latex": [
       "$\\displaystyle e^{t \\left(-1.5 - 1.3228756555323 i\\right)} \\left(0.46875 + 0.0590569489076918 i\\right) + e^{t \\left(-1.5 + 1.3228756555323 i\\right)} \\left(0.46875 - 0.0590569489076918 i\\right) + 1.25 t - 0.9375$"
      ],
      "text/plain": [
       "e**(t*(-1.5 - 1.3228756555323*I))*(0.46875 + 0.0590569489076918*I) + e**(t*(-1.5 + 1.3228756555323*I))*(0.46875 - 0.0590569489076918*I) + 1.25*t - 0.9375"
      ]
     },
     "execution_count": 28,
     "metadata": {},
     "output_type": "execute_result"
    }
   ],
   "source": [
    "yt = res2[0][0]*e**(res2[1][0]*t) + t*res2[0][1]*e**(res2[1][1]*t) + res2[0][2]*e**(res2[1][2]*t) + res2[0][3]*e**(res2[1][3]*t) #Coloquei *t pq tem dois polos iguais https://docs.scipy.org/doc/scipy/reference/generated/scipy.signal.residue.html\n",
    "yt"
   ]
  },
  {
   "cell_type": "code",
   "execution_count": null,
   "metadata": {},
   "outputs": [],
   "source": [
    "import numpy as np\n",
    "import cmath"
   ]
  },
  {
   "cell_type": "code",
   "execution_count": null,
   "metadata": {},
   "outputs": [],
   "source": [
    "yout2 , T3 = control.impulse_response(Ys2)"
   ]
  },
  {
   "cell_type": "code",
   "execution_count": null,
   "metadata": {},
   "outputs": [],
   "source": [
    "res =[]\n",
    "T1 = np.arange(0, 25, 0.01)\n",
    "for t1 in T1:\n",
    "    yt1 = res2[0][0]*cmath.exp(res2[1][0]*t1) + t1*res2[0][1]*cmath.exp(res2[1][1]*t1) + res2[0][2]*cmath.exp(res2[1][2]*t1) + res2[0][3]*cmath.exp(res2[1][3]*t1)\n",
    "    res.append(yt1)"
   ]
  },
  {
   "cell_type": "code",
   "execution_count": null,
   "metadata": {},
   "outputs": [],
   "source": [
    "import matplotlib.pyplot as plt"
   ]
  },
  {
   "cell_type": "code",
   "execution_count": null,
   "metadata": {},
   "outputs": [
    {
     "data": {
      "text/plain": [
       "[<matplotlib.lines.Line2D at 0x7f480436e978>]"
      ]
     },
     "execution_count": 33,
     "metadata": {},
     "output_type": "execute_result"
    },
    {
     "data": {
      "image/png": "[encoded data removed]",
      "text/plain": [
       "<Figure size 432x288 with 1 Axes>"
      ]
     },
     "metadata": {
      "needs_background": "light"
     },
     "output_type": "display_data"
    }
   ],
   "source": [
    "plt.plot(yout2, T3)"
   ]
  },
  {
   "cell_type": "code",
   "execution_count": null,
   "metadata": {},
   "outputs": [
    {
     "name": "stderr",
     "output_type": "stream",
     "text": [
      "/home/JoaoYamashita/.local/lib/python3.6/site-packages/numpy/core/_asarray.py:83: ComplexWarning: Casting complex values to real discards the imaginary part\n",
      "  return array(a, dtype, copy=False, order=order)\n"
     ]
    },
    {
     "data": {
      "text/plain": [
       "[<matplotlib.lines.Line2D at 0x7f48042c3160>]"
      ]
     },
     "execution_count": 35,
     "metadata": {},
     "output_type": "execute_result"
    },
    {
     "data": {
      "image/png": "[encoded data removed]",
      "text/plain": [
       "<Figure size 432x288 with 1 Axes>"
      ]
     },
     "metadata": {
      "needs_background": "light"
     },
     "output_type": "display_data"
    }
   ],
   "source": [
    "plt.plot(T1, res, 'r')"
   ]
  },
  {
   "cell_type": "code",
   "execution_count": null,
   "metadata": {},
   "outputs": [
    {
     "name": "stderr",
     "output_type": "stream",
     "text": [
      "/home/JoaoYamashita/.local/lib/python3.6/site-packages/numpy/core/_asarray.py:83: ComplexWarning: Casting complex values to real discards the imaginary part\n",
      "  return array(a, dtype, copy=False, order=order)\n"
     ]
    },
    {
     "data": {
      "text/plain": [
       "Text(0.5, 1.0, 'Resposta usando os residuos')"
      ]
     },
     "execution_count": 36,
     "metadata": {},
     "output_type": "execute_result"
    },
    {
     "data": {
      "image/png": "[encoded data removed]",
      "text/plain": [
       "<Figure size 432x288 with 2 Axes>"
      ]
     },
     "metadata": {
      "needs_background": "light"
     },
     "output_type": "display_data"
    }
   ],
   "source": [
    "import matplotlib.pyplot as plt\n",
    "plt.figure(0)\n",
    "plt.subplot(1,2,1)\n",
    "plt.plot(yout2, T3)\n",
    "plt.grid()\n",
    "plt.title(\"Resposta simulada\")\n",
    "plt.subplot(1,2,2)\n",
    "plt.plot(T1, res, 'r')\n",
    "plt.grid()\n",
    "plt.title(\"Resposta usando os residuos\")"
   ]
  }
 ],
 "metadata": {
  "kernelspec": {
   "display_name": "Python 3.10.4 64-bit",
   "language": "python",
   "name": "python3"
  },
  "language_info": {
   "codemirror_mode": {
    "name": "ipython",
    "version": 3
   },
   "file_extension": ".py",
   "mimetype": "text/x-python",
   "name": "python",
   "nbconvert_exporter": "python",
   "pygments_lexer": "ipython3",
   "version": "3.10.4"
  },
  "orig_nbformat": 4,
  "vscode": {
   "interpreter": {
    "hash": "f422de39ad8f94a2b1af68056cae06c46fbf51cf3a4f51c27b75f93c1047fc34"
   }
  }
 },
 "nbformat": 4,
 "nbformat_minor": 2
}

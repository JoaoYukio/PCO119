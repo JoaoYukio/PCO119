{
 "cells": [
  {
   "cell_type": "code",
   "execution_count": 6,
   "metadata": {},
   "outputs": [],
   "source": [
    "import control # Nao esquecer de rodar o pip3 antes de fazer isso\n",
    "import scipy\n",
    "from scipy import signal\n",
    "import cmath"
   ]
  },
  {
   "cell_type": "code",
   "execution_count": 28,
   "metadata": {},
   "outputs": [
    {
     "data": {
      "text/latex": [
       "$$\\frac{10 s + 1}{100 s^4 + 170 s^3 + 46 s^2 + s}$$"
      ],
      "text/plain": [
       "TransferFunction(array([10,  1]), array([100, 170,  46,   1,   0]))"
      ]
     },
     "execution_count": 28,
     "metadata": {},
     "output_type": "execute_result"
    }
   ],
   "source": [
    "num = [10,1]\n",
    "den = [100,170,46,1,0]\n",
    "Gs = control.TransferFunction(num, den)\n",
    "Gs"
   ]
  },
  {
   "cell_type": "code",
   "execution_count": 19,
   "metadata": {},
   "outputs": [],
   "source": [
    "r = signal.residue(num, den)"
   ]
  },
  {
   "cell_type": "code",
   "execution_count": 29,
   "metadata": {},
   "outputs": [],
   "source": [
    "def plotFuncT(num, den):\n",
    "    import matplotlib.pyplot as plt\n",
    "    import numpy as np\n",
    "    r = signal.residue(num, den)\n",
    "    res = []\n",
    "    T = np.arange(0, 400, 0.1)\n",
    "    for t in T:\n",
    "        yt = r[0][0]*cmath.exp(r[1][0]*t) + r[0][1]*cmath.exp(r[1][1]*t) + r[0][2]*cmath.exp(r[1][2]*t)\n",
    "        res.append(yt)\n",
    "\n",
    "    plt.plot(T, res)"
   ]
  },
  {
   "cell_type": "code",
   "execution_count": 30,
   "metadata": {},
   "outputs": [
    {
     "name": "stderr",
     "output_type": "stream",
     "text": [
      "/home/JoaoYamashita/.local/lib/python3.6/site-packages/numpy/core/_asarray.py:83: ComplexWarning: Casting complex values to real discards the imaginary part\n",
      "  return array(a, dtype, copy=False, order=order)\n"
     ]
    },
    {
     "data": {
      "image/png": "[encoded data removed]",
      "text/plain": [
       "<Figure size 432x288 with 1 Axes>"
      ]
     },
     "metadata": {
      "needs_background": "light"
     },
     "output_type": "display_data"
    }
   ],
   "source": [
    "plotFuncT(num, den)"
   ]
  }
 ],
 "metadata": {
  "kernelspec": {
   "display_name": "Python 3.6.9 64-bit",
   "language": "python",
   "name": "python3"
  },
  "language_info": {
   "codemirror_mode": {
    "name": "ipython",
    "version": 3
   },
   "file_extension": ".py",
   "mimetype": "text/x-python",
   "name": "python",
   "nbconvert_exporter": "python",
   "pygments_lexer": "ipython3",
   "version": "3.6.9"
  },
  "orig_nbformat": 4,
  "vscode": {
   "interpreter": {
    "hash": "31f2aee4e71d21fbe5cf8b01ff0e069b9275f58929596ceb00d14d90e3e16cd6"
   }
  }
 },
 "nbformat": 4,
 "nbformat_minor": 2
}

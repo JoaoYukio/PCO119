{
 "cells": [
  {
   "cell_type": "code",
   "execution_count": 2,
   "metadata": {},
   "outputs": [],
   "source": [
    "import control # Nao esquecer de rodar o pip3 antes de fazer isso\n",
    "import scipy\n",
    "from scipy import signal\n",
    "import cmath"
   ]
  },
  {
   "cell_type": "code",
   "execution_count": 28,
   "metadata": {},
   "outputs": [
    {
     "data": {
      "text/latex": [
       "$$\\frac{10 s + 1}{100 s^4 + 170 s^3 + 46 s^2 + s}$$"
      ],
      "text/plain": [
       "TransferFunction(array([10,  1]), array([100, 170,  46,   1,   0]))"
      ]
     },
     "execution_count": 28,
     "metadata": {},
     "output_type": "execute_result"
    }
   ],
   "source": [
    "num = [10,1]\n",
    "den = [100,170,46,1,0]\n",
    "Gs = control.TransferFunction(num, den)\n",
    "Gs"
   ]
  },
  {
   "cell_type": "code",
   "execution_count": 19,
   "metadata": {},
   "outputs": [],
   "source": [
    "r = signal.residue(num, den)"
   ]
  },
  {
   "cell_type": "code",
   "execution_count": 29,
   "metadata": {},
   "outputs": [],
   "source": [
    "def plotFuncT(num, den):\n",
    "    import matplotlib.pyplot as plt\n",
    "    import numpy as np\n",
    "    r = signal.residue(num, den)\n",
    "    res = []\n",
    "    T = np.arange(0, 400, 0.1)\n",
    "    for t in T:\n",
    "        yt = r[0][0]*cmath.exp(r[1][0]*t) + r[0][1]*cmath.exp(r[1][1]*t) + r[0][2]*cmath.exp(r[1][2]*t)\n",
    "        res.append(yt)\n",
    "\n",
    "    plt.plot(T, res)"
   ]
  },
  {
   "cell_type": "code",
   "execution_count": 30,
   "metadata": {},
   "outputs": [
    {
     "name": "stderr",
     "output_type": "stream",
     "text": [
      "/home/JoaoYamashita/.local/lib/python3.6/site-packages/numpy/core/_asarray.py:83: ComplexWarning: Casting complex values to real discards the imaginary part\n",
      "  return array(a, dtype, copy=False, order=order)\n"
     ]
    },
    {
     "data": {
      "image/png": "[encoded data removed]",
      "text/plain": [
       "<Figure size 432x288 with 1 Axes>"
      ]
     },
     "metadata": {
      "needs_background": "light"
     },
     "output_type": "display_data"
    }
   ],
   "source": [
    "plotFuncT(num, den)"
   ]
  },
  {
   "cell_type": "markdown",
   "metadata": {},
   "source": [
    "Teste Ex1"
   ]
  },
  {
   "cell_type": "code",
   "execution_count": 24,
   "metadata": {},
   "outputs": [
    {
     "data": {
      "text/latex": [
       "$$\\frac{5}{s^3 + 3 s^2 + 4 s}$$"
      ],
      "text/plain": [
       "TransferFunction(array([5]), array([1, 3, 4, 0]))"
      ]
     },
     "execution_count": 24,
     "metadata": {},
     "output_type": "execute_result"
    }
   ],
   "source": [
    "num, den = [5],[1,3,4,0]\n",
    "Ys = control.TransferFunction(num, den)\n",
    "Ys"
   ]
  },
  {
   "cell_type": "code",
   "execution_count": 25,
   "metadata": {},
   "outputs": [],
   "source": [
    "res1 = signal.residue(num, den)"
   ]
  },
  {
   "cell_type": "code",
   "execution_count": 26,
   "metadata": {},
   "outputs": [
    {
     "data": {
      "text/plain": [
       "(array([ 1.25 +0.j        , -0.625+0.70868339j, -0.625-0.70868339j]),\n",
       " array([ 0. +0.j        , -1.5+1.32287566j, -1.5-1.32287566j]),\n",
       " array([], dtype=float64))"
      ]
     },
     "execution_count": 26,
     "metadata": {},
     "output_type": "execute_result"
    }
   ],
   "source": [
    "res1"
   ]
  },
  {
   "cell_type": "code",
   "execution_count": 11,
   "metadata": {},
   "outputs": [],
   "source": [
    "import sympy"
   ]
  },
  {
   "cell_type": "code",
   "execution_count": 12,
   "metadata": {},
   "outputs": [],
   "source": [
    "from sympy import Symbol "
   ]
  },
  {
   "cell_type": "code",
   "execution_count": 27,
   "metadata": {},
   "outputs": [],
   "source": [
    "t = Symbol('t')\n",
    "yt = Symbol('yt')\n",
    "e = Symbol('e')"
   ]
  },
  {
   "cell_type": "code",
   "execution_count": 36,
   "metadata": {},
   "outputs": [
    {
     "data": {
      "text/latex": [
       "$\\displaystyle e^{-1.875 - 1.65359456941537 i} \\left(-0.625 - 0.708683386892301 i\\right) + e^{-1.875 + 1.65359456941537 i} \\left(-0.625 + 0.708683386892301 i\\right) + 1.25$"
      ],
      "text/plain": [
       "e**(-1.875 - 1.65359456941537*I)*(-0.625 - 0.708683386892301*I) + e**(-1.875 + 1.65359456941537*I)*(-0.625 + 0.708683386892301*I) + 1.25"
      ]
     },
     "execution_count": 36,
     "metadata": {},
     "output_type": "execute_result"
    }
   ],
   "source": [
    "yt = res1[0][0]*e**(res1[1][0]*t) + res1[0][1]*e**(res1[1][1]*t) + res1[0][2]*e**(res1[1][2]*t)\n",
    "yt"
   ]
  },
  {
   "cell_type": "code",
   "execution_count": 55,
   "metadata": {},
   "outputs": [],
   "source": [
    "yout , T = control.impulse_response(Ys)"
   ]
  },
  {
   "cell_type": "code",
   "execution_count": 63,
   "metadata": {},
   "outputs": [],
   "source": [
    "T1 = np.arange(0, 25, 0.01)"
   ]
  },
  {
   "cell_type": "code",
   "execution_count": 64,
   "metadata": {},
   "outputs": [],
   "source": [
    "res = []\n",
    "\n",
    "for t1 in T1:\n",
    "    yt1 = res1[0][0]*cmath.exp(res1[1][0]*t1) + res1[0][1]*cmath.exp(res1[1][1]*t1) + res1[0][2]*cmath.exp(res1[1][2]*t1)\n",
    "    res.append(yt1)"
   ]
  },
  {
   "cell_type": "code",
   "execution_count": 58,
   "metadata": {},
   "outputs": [],
   "source": [
    "import matplotlib.pyplot as plt"
   ]
  },
  {
   "cell_type": "code",
   "execution_count": 77,
   "metadata": {},
   "outputs": [
    {
     "name": "stderr",
     "output_type": "stream",
     "text": [
      "/home/JoaoYamashita/.local/lib/python3.6/site-packages/numpy/core/_asarray.py:83: ComplexWarning: Casting complex values to real discards the imaginary part\n",
      "  return array(a, dtype, copy=False, order=order)\n"
     ]
    },
    {
     "data": {
      "text/plain": [
       "Text(0.5, 1.0, 'Resposta usando os residuos')"
      ]
     },
     "execution_count": 77,
     "metadata": {},
     "output_type": "execute_result"
    },
    {
     "data": {
      "image/png": "[encoded data removed]",
      "text/plain": [
       "<Figure size 432x288 with 2 Axes>"
      ]
     },
     "metadata": {
      "needs_background": "light"
     },
     "output_type": "display_data"
    }
   ],
   "source": [
    "plt.figure(0)\n",
    "plt.subplot(1,2,1)\n",
    "plt.plot(yout, T)\n",
    "plt.grid()\n",
    "plt.title(\"Resposta simulada\")\n",
    "plt.subplot(1,2,2)\n",
    "plt.plot(T1, res, 'r')\n",
    "plt.grid()\n",
    "plt.title(\"Resposta usando os residuos\")"
   ]
  },
  {
   "cell_type": "code",
   "execution_count": 78,
   "metadata": {},
   "outputs": [
    {
     "name": "stderr",
     "output_type": "stream",
     "text": [
      "/home/JoaoYamashita/.local/lib/python3.6/site-packages/numpy/core/_asarray.py:83: ComplexWarning: Casting complex values to real discards the imaginary part\n",
      "  return array(a, dtype, copy=False, order=order)\n"
     ]
    },
    {
     "data": {
      "text/plain": [
       "Text(0.5, 1.0, 'Resposta usando os residuos')"
      ]
     },
     "execution_count": 78,
     "metadata": {},
     "output_type": "execute_result"
    },
    {
     "data": {
      "image/png": "[encoded data removed]",
      "text/plain": [
       "<Figure size 432x288 with 2 Axes>"
      ]
     },
     "metadata": {
      "needs_background": "light"
     },
     "output_type": "display_data"
    }
   ],
   "source": [
    "plt.figure(0)\n",
    "plt.subplot(2,1,1)\n",
    "plt.plot(yout, T)\n",
    "plt.grid()\n",
    "plt.title(\"Resposta simulada\")\n",
    "plt.subplot(2,1,2)\n",
    "plt.plot(T1, res, 'r')\n",
    "plt.grid()\n",
    "plt.title(\"Resposta usando os residuos\")"
   ]
  },
  {
   "cell_type": "code",
   "execution_count": 74,
   "metadata": {},
   "outputs": [
    {
     "data": {
      "image/png": "[encoded data removed]",
      "text/plain": [
       "<Figure size 432x288 with 1 Axes>"
      ]
     },
     "metadata": {
      "needs_background": "light"
     },
     "output_type": "display_data"
    }
   ],
   "source": [
    "plt.plot(yout, T)\n",
    "plt.title(\"Resposta simulada\")\n",
    "plt.grid()"
   ]
  },
  {
   "cell_type": "code",
   "execution_count": 66,
   "metadata": {},
   "outputs": [
    {
     "name": "stderr",
     "output_type": "stream",
     "text": [
      "/home/JoaoYamashita/.local/lib/python3.6/site-packages/numpy/core/_asarray.py:83: ComplexWarning: Casting complex values to real discards the imaginary part\n",
      "  return array(a, dtype, copy=False, order=order)\n"
     ]
    },
    {
     "data": {
      "image/png": "[encoded data removed]",
      "text/plain": [
       "<Figure size 432x288 with 1 Axes>"
      ]
     },
     "metadata": {
      "needs_background": "light"
     },
     "output_type": "display_data"
    }
   ],
   "source": [
    "plt.figure(1)\n",
    "plt.plot(T1, res, 'r')\n",
    "plt.title(\"Resposta usando os residuos\")\n",
    "plt.grid()"
   ]
  }
 ],
 "metadata": {
  "kernelspec": {
   "display_name": "Python 3.6.9 64-bit",
   "language": "python",
   "name": "python3"
  },
  "language_info": {
   "codemirror_mode": {
    "name": "ipython",
    "version": 3
   },
   "file_extension": ".py",
   "mimetype": "text/x-python",
   "name": "python",
   "nbconvert_exporter": "python",
   "pygments_lexer": "ipython3",
   "version": "3.6.9"
  },
  "orig_nbformat": 4,
  "vscode": {
   "interpreter": {
    "hash": "31f2aee4e71d21fbe5cf8b01ff0e069b9275f58929596ceb00d14d90e3e16cd6"
   }
  }
 },
 "nbformat": 4,
 "nbformat_minor": 2
}
